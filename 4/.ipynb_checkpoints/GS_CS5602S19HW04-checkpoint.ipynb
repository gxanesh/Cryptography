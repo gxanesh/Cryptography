{
 "cells": [
  {
   "cell_type": "markdown",
   "metadata": {
    "id": "mP9fCuphYi9A"
   },
   "source": [
    "#CS 5602 S19 HW 04\n",
    "#Name: Ganesh Sapkota\n",
    "#Student ID: 12584026\n",
    "#Due December 12, 2021 at 11:59 PM\n"
   ]
  },
  {
   "cell_type": "markdown",
   "metadata": {
    "id": "jydlw7k1ZNVg"
   },
   "source": [
    "#Q.N.1 Write a Python program that given n, computes the size of Sn,the prime factorization of n!, and the number of factors of n!. Output the result in the form (p1 ∗ ∗e1)(p2 ∗ ∗e2)...(pk ∗ ∗ek) where pi are the prime factors of n!. Use the Sieve of Eratosthenes in your code to \u001c",
    "gure out the prime factors. For example, if n = 4, S4 has 24 elements and the prime factorization should be outputted in the form (2**3)(3**1). Include values for n = 1,...,10 and n = 100.\n"
   ]
  },
  {
   "cell_type": "markdown",
   "metadata": {
    "id": "XWZN3k6XZrO5"
   },
   "source": [
    "#Steps to solve this problem.\n",
    ">1. Ask n from user.\n",
    "\n",
    "> 2. Compute n! which is the size of $S_{n}$\n",
    "\n",
    "> 3. Compute the prime factors less than n! using Sieve of Eratosthenes Method.\n",
    "> 4. Compute the prime factors of n!\n",
    "> 5. Print output in the form (P1**e1)(p2**e2)...(pk**ek) where p1 is the prime factor and e is the repeated number of p.\n",
    "\n",
    "\n"
   ]
  },
  {
   "cell_type": "markdown",
   "metadata": {
    "id": "Ml_DM4tK9Ybl"
   },
   "source": [
    "##Step 2. Compute n! which is the size of $S_{n}$"
   ]
  },
  {
   "cell_type": "code",
   "execution_count": 70,
   "metadata": {
    "id": "KZRkEKTmelm0"
   },
   "outputs": [],
   "source": [
    "#Step2: Compute n! for given n which computes the size of $S_{n}$\n",
    "def compute_fact(n):\n",
    "  if n==0:\n",
    "    return 1\n",
    "  fact = n*compute_fact(n-1)\n",
    "  return fact"
   ]
  },
  {
   "cell_type": "markdown",
   "metadata": {
    "id": "W27MeAsqpJO5"
   },
   "source": [
    "Above program computes the factorial of a given number n"
   ]
  },
  {
   "cell_type": "code",
   "execution_count": 71,
   "metadata": {
    "colab": {
     "base_uri": "https://localhost:8080/",
     "height": 0
    },
    "id": "Zu2F5C1IfFeD",
    "outputId": "285ce05f-e4ca-4ff2-e4b8-750db6efa186"
   },
   "outputs": [
    {
     "name": "stdout",
     "output_type": "stream",
     "text": [
      "Factorial of 10 is 3628800\n"
     ]
    }
   ],
   "source": [
    "#test code:\n",
    "n = 10\n",
    "f = compute_fact(n)\n",
    "print(\"Factorial of {} is {}\".format(n,f))"
   ]
  },
  {
   "cell_type": "markdown",
   "metadata": {
    "id": "jpfYaNSr9pCy"
   },
   "source": [
    "##Step 3. Compute the prime factors less than n! using Sieve of Eratosthenes Method."
   ]
  },
  {
   "cell_type": "code",
   "execution_count": 72,
   "metadata": {
    "id": "jYbbuU51hblx"
   },
   "outputs": [],
   "source": [
    "#compute prime factors of n!\n",
    "#Sieve of Eratosthenes to find all primes <= n\n",
    "#Reference: lecture note CS5602Lec21ResiduesFieldExtensions.pdf\n",
    "\n",
    "def Sieve(f):\n",
    "  primes = []\n",
    "  remain = list(range(2,f+1))\n",
    "  while remain:\n",
    "    primes.append(remain[0])\n",
    "    remain = [remain[i] for i in range(1,len(remain)) if 0 != remain[i]%remain[0]]\n",
    "  return primes"
   ]
  },
  {
   "cell_type": "markdown",
   "metadata": {
    "id": "E03nuS6jpRqr"
   },
   "source": [
    "Above function generates the prime factors less than or equal to a given number using Sieve of Eratosthenes."
   ]
  },
  {
   "cell_type": "code",
   "execution_count": 73,
   "metadata": {
    "colab": {
     "base_uri": "https://localhost:8080/",
     "height": 0
    },
    "id": "1WEvYedjkTYV",
    "outputId": "f76a01ab-4850-4a84-e70d-8d9ce5138426"
   },
   "outputs": [
    {
     "name": "stdout",
     "output_type": "stream",
     "text": [
      "[2, 3, 5, 7, 11, 13, 17, 19, 23]\n"
     ]
    }
   ],
   "source": [
    "#test program\n",
    "# n is given number\n",
    "#f is factorial of n\n",
    "n = 4\n",
    "f = compute_fact(n)\n",
    "print(Sieve(f))"
   ]
  },
  {
   "cell_type": "markdown",
   "metadata": {
    "id": "OI2RLJOl9_Zm"
   },
   "source": [
    "##Step 4. Compute the prime factors of n!"
   ]
  },
  {
   "cell_type": "markdown",
   "metadata": {
    "id": "gHIGLvWUl5jy"
   },
   "source": [
    "Below is the function to print all prime factors of the factorial of given number n"
   ]
  },
  {
   "cell_type": "code",
   "execution_count": 74,
   "metadata": {
    "id": "nQAbJIQOlWGU"
   },
   "outputs": [],
   "source": [
    "import math\n",
    "def get_Prime_Factors(n):\n",
    "  # n is given number\n",
    "\n",
    "  # f = n! --> is factorial of n\n",
    "  f = compute_fact(n)\n",
    "\n",
    "  #pf is a list of prime factors of f\n",
    "  pf = []\n",
    "\n",
    "  # Print the number of two's that divide f\n",
    "  while f % 2 == 0:\n",
    "    # print(2)\n",
    "    pf.append(2)\n",
    "    f = f / 2\n",
    "      \n",
    "  # if f is odd, skip by 2 ( k = k + 2)\n",
    "  for k in range(3,int(math.sqrt(f))+1,2):\n",
    "\n",
    "    # while i divides f , print k and progress\n",
    "    while f % k == 0:\n",
    "      # print(k)\n",
    "      pf.append(k)\n",
    "      f = f / k         \n",
    "  #if f is a prime number greater than 2\n",
    "  if f > 2:\n",
    "    pf.append(int(f))\n",
    "  return pf"
   ]
  },
  {
   "cell_type": "code",
   "execution_count": 74,
   "metadata": {
    "id": "X3KHI3TxPc1x"
   },
   "outputs": [],
   "source": []
  },
  {
   "cell_type": "code",
   "execution_count": 75,
   "metadata": {
    "colab": {
     "base_uri": "https://localhost:8080/",
     "height": 0
    },
    "id": "rGf1uST7mEZQ",
    "outputId": "b5cdf4a9-e3f1-448e-88db-02bbbf9b7539"
   },
   "outputs": [
    {
     "name": "stdout",
     "output_type": "stream",
     "text": [
      "Prime factors of 5! are:[2, 2, 2, 3, 5]\n"
     ]
    }
   ],
   "source": [
    "#Program to test above function\n",
    "n = 5\n",
    "pf = get_Prime_Factors(n)\n",
    "print(\"Prime factors of {}! are:{}\".format(n,pf))"
   ]
  },
  {
   "cell_type": "markdown",
   "metadata": {
    "id": "W2vmmO3d-PF5"
   },
   "source": [
    "##Step 5. Print output in the form (P1**e1)(p2**e2)...(pk**ek) where p1 is the prime factor and e is the repeated number of p."
   ]
  },
  {
   "cell_type": "code",
   "execution_count": 76,
   "metadata": {
    "id": "vcEe383DxW7A"
   },
   "outputs": [],
   "source": [
    "# format the result in desired type\n",
    "# eg: (p1 ∗ ∗e1)(p2 ∗ ∗e2)...(pk ∗ ∗ek) \n",
    "# where p is prime factor and e is number of p in prime factors list\n",
    "def formatted_output(pf,n):\n",
    "  #pf is list of prime factors\n",
    "  # dict -> count the number of same prime factors and store in dict\n",
    "  dict = {x:pf.count(x) for x in pf}\n",
    "  # print(dict)\n",
    "\n",
    "  output = []\n",
    "  for i in dict:\n",
    "    # print(\"({}**{})\".format(i,d[i]))\n",
    "    f = \"(\" + str(i) + \"**\" + str(dict[i]) +\")\"\n",
    "    output.append(f)\n",
    "  # print(\"\\nOutput in list format\\n\",output)\n",
    "  print(\"Prime factorization of {}! is:\\n\".format(n))\n",
    "  for j in output:\n",
    "      print(j, end=\"\")"
   ]
  },
  {
   "cell_type": "markdown",
   "metadata": {
    "id": "tEebA3EOqrub"
   },
   "source": [
    "Above function generates the output in desired format. It express the a given number as the product of their prime factors that are raised to some powers."
   ]
  },
  {
   "cell_type": "code",
   "execution_count": 77,
   "metadata": {
    "colab": {
     "base_uri": "https://localhost:8080/",
     "height": 0
    },
    "id": "PqVA2GRu4cXj",
    "outputId": "d58f193b-fabb-46d3-9553-8663b33fc081"
   },
   "outputs": [
    {
     "name": "stdout",
     "output_type": "stream",
     "text": [
      "Prime factorization of 5! is:\n",
      "\n",
      "(2**3)(3**1)(5**1)"
     ]
    }
   ],
   "source": [
    "\n",
    "#test program\n",
    "formatted_output(pf,5)"
   ]
  },
  {
   "cell_type": "markdown",
   "metadata": {
    "id": "ZBCwMVraC1qX"
   },
   "source": [
    "Tetst list contains number from 1 to 10 and 100"
   ]
  },
  {
   "cell_type": "code",
   "execution_count": 78,
   "metadata": {
    "id": "ilfTzwGACuKO"
   },
   "outputs": [],
   "source": [
    "t_num = [1,2,3,4,5,6,7,8,9,100]"
   ]
  },
  {
   "cell_type": "code",
   "execution_count": 79,
   "metadata": {
    "colab": {
     "base_uri": "https://localhost:8080/",
     "height": 0
    },
    "id": "noIFjVIR-XQa",
    "outputId": "3441f977-df90-4401-88b1-4e4f66bed0ba"
   },
   "outputs": [
    {
     "name": "stdout",
     "output_type": "stream",
     "text": [
      "1 is not a prime number\n",
      "\n",
      "\n",
      "Prime factorization of 2! is:\n",
      "\n",
      "(2**1)\n",
      "\n",
      "Prime factorization of 3! is:\n",
      "\n",
      "(2**1)(3**1)\n",
      "\n",
      "Prime factorization of 4! is:\n",
      "\n",
      "(2**3)(3**1)\n",
      "\n",
      "Prime factorization of 5! is:\n",
      "\n",
      "(2**3)(3**1)(5**1)\n",
      "\n",
      "Prime factorization of 6! is:\n",
      "\n",
      "(2**4)(3**2)(5**1)\n",
      "\n",
      "Prime factorization of 7! is:\n",
      "\n",
      "(2**4)(3**2)(5**1)(7**1)\n",
      "\n",
      "Prime factorization of 8! is:\n",
      "\n",
      "(2**7)(3**2)(5**1)(7**1)\n",
      "\n",
      "Prime factorization of 9! is:\n",
      "\n",
      "(2**7)(3**4)(5**1)(7**1)\n",
      "\n",
      "Prime factorization of 100! is:\n",
      "\n",
      "(2**474)(3**3)(17**1)(4168434910597**1)\n",
      "\n"
     ]
    }
   ],
   "source": [
    "\n",
    "for i in t_num:\n",
    "  # fact = compute_fact(i)\n",
    "  pf = get_Prime_Factors(i)\n",
    "  # print(pf)\n",
    "  if not pf:\n",
    "    print(\"{} is not a prime number\".format(i))\n",
    "  else:\n",
    "    formatted_output(pf,i)\n",
    "  print(\"\\n\")\n",
    "  # print(fact)\n"
   ]
  },
  {
   "cell_type": "markdown",
   "metadata": {
    "id": "O_qefyumzHlT"
   },
   "source": [
    "#Q.N 2\n"
   ]
  },
  {
   "cell_type": "markdown",
   "metadata": {
    "id": "DJh9YD6KytLz"
   },
   "source": [
    "For a prime number P and a positive integer n there is an irreducible $Π(x)$ of degree n in $F_{P}[X]$ and $F_{P}[X]$ / $Π(x)$ is a field of order $P^n$.\n",
    "\n",
    "Given,\n",
    "\n",
    "$F_{2^8} = F_{2}[X]/(x^8 + x^4 + x^3 + X +1)$\n",
    "\n",
    "$F_{256} = F_{2^8} = F_{P^n}$\n",
    "\n",
    "where p = 2 and n = 8\n",
    "\n",
    "Field $F_{2^8}$ is the finite field of order $2^8$  = 256 which means field has 256 finite elements.\n",
    "\n",
    "we need to find the multiplicative inverse of $x^7 + x +1$ in finite field $F_{2^8}$ with irreducible polynomial$(x^8 + x^4 + x^3 + x +1)$\n",
    "\n",
    "We can find the multiplicative inverse using Extended Euclidean algorithm and Bezout's identity in following steps:\n",
    "\n",
    "1) Compute GCD(g(x),(px)) and check if it is equal to 1:\n",
    ">> if GCD(g(x),(px)) = 1 then g(x) and p(x) are relatively prime and multiplicative inverse of p(x) exists in $F_{2^8}$\n",
    "\n",
    "2) Use Bezout's identity to find the multiplicative inverse.\n",
    "\n",
    ">> if 'a' is relatively prime to n and GCD(a,n) = 1 \n",
    "\n",
    ">>then a and and n also satisfy following condition for some X and Y:\n",
    "  X*a + Y*n = 1\n",
    "\n",
    " $Y*n$ Mod n = 0\n",
    "\n",
    " $X = a^{-1}$ which is multiplicative inverse of a modulo n.\n",
    "\n",
    " So, we need to find X using Bezout Identity.\n",
    "\n",
    " For out case Bezout identity is:\n",
    "\n",
    " $a(x)*g(x) + b(x) * p(x) = r(x)$\n",
    "\n",
    " where r(x) is the GCD(p(x),g(x)) = 1\n",
    "\n",
    "$a(x).g(x) + b(x). p(x) = 1$\n",
    "\n",
    "\n",
    "Now we have,\n",
    "\n",
    "$g(x)=(x8+x4+x3+x+1) $\n",
    "\n",
    "and \n",
    "\n",
    "$p(x)=(x7+x+1)$"
   ]
  },
  {
   "cell_type": "markdown",
   "metadata": {
    "id": "t9n1kw2lNj2m"
   },
   "source": [
    "\n",
    "Step 1: Computing GCD using Extended Euclidean algorithm\n",
    "\n",
    "$(x8+x4+x3+x+1)=(x7+x+1)(x)+(x4+x3+x2+1)$   .....1\n",
    "\n",
    "$(x7+x+1)= (x4+x3+x2+1)(x3+x2+1)+(x)$    .......2\n",
    "\n",
    "$(x4+x3+x2+1)=(x3+x2+x)(x)+1$   .............3\n",
    "\n",
    "It shows that Reminder is 1 which means GCD(g(x),p(x)) = 1\n",
    "Hence there is an multiplicative inverse of p(x) exists.\n",
    "\n",
    "We have Bexout's identity:\n",
    "\n",
    "$a(x)g(x)+b(x)p(x)= d(x)$\n",
    "\n",
    "where d(x) is the GCD(g(x),p(x)) = 1\n",
    "\n",
    "Now Lets start from eqn 3 that has non zero reminder\n",
    "\n",
    "$()=(x^3+x^2+x)(x)+1$\n",
    "\n",
    "we know that in GF(2) (1 = -1)\n",
    "\n",
    "So,\n",
    "\n",
    "$(x^4+x^3+x^2+1)+ (x^3+x^2+x)(x) = 1$  ......4\n",
    "\n",
    "and from eqn(2),\n",
    "\n",
    "we can get,\n",
    "\n",
    "x = $(x7+x+1) + (x^4+x^3+x^2+1)(x3+x2+1) \n",
    "\n",
    "x = p(x) + (x^4+x^3+x^2+1)(x3+x2+1) .........5\n",
    "\n",
    "substituting value of x in eqn 4,\n",
    "\n",
    "we get,\n",
    "\n",
    "$(x^4+x^3+x^2+1)+ (x^3+x^2+x)[p(x) + (x^4+x^3+x^2+1)(x^3+x^2+x)] = 1$\n",
    "\n",
    "\n",
    "$(x^4+x^3+x^2+1) + (x^3+x^2+x)p(x) +(x^6+x^2+1)(x^4+x^3+x^2+1) = 1$\n",
    "\n",
    "$(x^3+x^2+x)p(x) +(x^6+x^2+1)(x^4+x^3+x^2+1) = 1$ .......6\n",
    "\n",
    "\n",
    "from eqn 1,\n",
    "\n",
    "$x^4+x^3+x^2+1 = (x8+x4+x3+x+1)+ (x^7+x+1)(x)$\n",
    "\n",
    "$x^4+x^3+x^2+1 = g(x)+ p(x)(x)$ .......7\n",
    "\n",
    "Substituting $x^4+x^3+x^2+1$ in eqn 6\n",
    "\n",
    "we get,\n",
    "$(x^3+x^2+x)p(x) +(x^6+x^2+1)(g(x)+ p(x)(x)) = 1$\n",
    "\n",
    "$(x^3+x^2+x)p(x)+(x^7+x^3+x^2+x)p(x)+(x^6+x^2+x+1)g(x) = 1$\n",
    "\n",
    "$(x^7)p(x)+(x^6+x^2+x)g(x) = 1$ .......8\n",
    "\n",
    "Comparing it with Bezout's identity\n",
    "\n",
    "$X*a + Y*n = 1$\n",
    "\n",
    "$X = a^{-1} = x^7$\n",
    "\n",
    "Hence the inverse of $a = p(x) = x^7+x+1$ is $x^7$ \n",
    "\n",
    "\n",
    "\n",
    "\n",
    "\n",
    "\n",
    "\n",
    "\n",
    "\n",
    "\n",
    "\n",
    "\n",
    "\n",
    "\n",
    "\n",
    "\n",
    "\n",
    "\n",
    "\n"
   ]
  },
  {
   "cell_type": "markdown",
   "metadata": {
    "id": "MEWAVzgzzR3f"
   },
   "source": [
    "#Q.N 3\n"
   ]
  },
  {
   "cell_type": "markdown",
   "metadata": {
    "id": "HvLJa3SjGwsd"
   },
   "source": [
    "Fibonacci numbers are defined as $F_{0} = 0, F_{1} = 1, F_{n} = F_{n−1} + F_{n−2}$"
   ]
  },
  {
   "cell_type": "markdown",
   "metadata": {
    "id": "xMzDCUYyEfP5"
   },
   "source": [
    "##Generate Fibonacci sequence upto n"
   ]
  },
  {
   "cell_type": "code",
   "execution_count": 80,
   "metadata": {
    "id": "oAPDtTIODHAn"
   },
   "outputs": [],
   "source": [
    "def fibo_seq(n):\n",
    "  f1 = 0\n",
    "  f2 = 1\n",
    "  count = -1\n",
    "  sequence = []\n",
    "  if n <= 0:\n",
    "    print(\"Enter positive integer greater than 0\")\n",
    "  elif n == 1:\n",
    "    return f1\n",
    "  else:\n",
    "    while count <= n:\n",
    "        if f1 <= n:\n",
    "            sequence.append(int(f1))\n",
    "        nxt = f1 + f2\n",
    "       # update values\n",
    "        f1 = f2\n",
    "        f2 = nxt\n",
    "        count += 1\n",
    "  return sequence"
   ]
  },
  {
   "cell_type": "code",
   "execution_count": 81,
   "metadata": {
    "colab": {
     "base_uri": "https://localhost:8080/",
     "height": 0
    },
    "id": "l533QmBPTLuv",
    "outputId": "456bf1a4-5995-4ec6-f68d-9e4a8bfbae68"
   },
   "outputs": [
    {
     "data": {
      "text/plain": [
       "[0, 1, 1, 2, 3]"
      ]
     },
     "execution_count": 81,
     "metadata": {},
     "output_type": "execute_result"
    }
   ],
   "source": [
    "#test code\n",
    "fibo_seq(3)"
   ]
  },
  {
   "cell_type": "code",
   "execution_count": 82,
   "metadata": {
    "colab": {
     "base_uri": "https://localhost:8080/",
     "height": 0
    },
    "id": "42uFGcuzJr18",
    "outputId": "0b1b24df-8e21-432d-c990-ef20ab374a6e"
   },
   "outputs": [
    {
     "name": "stdout",
     "output_type": "stream",
     "text": [
      "[0, 1, 1, 2, 3]\n",
      "[0, 1, 1, 2, 3, 5]\n",
      "[0, 1, 1, 2, 3, 5]\n",
      "[0, 1, 1, 2, 3, 5, 8]\n"
     ]
    }
   ],
   "source": [
    "#test program to generate Fibonacci Sequence upto n\n",
    "# n is the upper limit of fibonacci sequence\n",
    "n = 3\n",
    "n1 = 5\n",
    "n2 = 6\n",
    "n3 = 10\n",
    "print(fibo_seq(n))\n",
    "print(fibo_seq(n1))\n",
    "print(fibo_seq(n2))\n",
    "print(fibo_seq(n3))"
   ]
  },
  {
   "cell_type": "markdown",
   "metadata": {
    "id": "hvOqvArTLGF-"
   },
   "source": [
    "\n",
    "fibo(n) generate Fibonacci Sequence <= n\n",
    "\n",
    "fibo_seq(5) gives sequence upto 5. \n",
    "ie: [0,1,1,2,3,5]\n",
    "\n",
    "fibo(6) also gives sequence [0,1,1,2,3,5] since it is not a fibonacci number.\n",
    "\n",
    "fibo(10) gives sequence [0, 1, 1, 2, 3, 5, 8] \n",
    "\n"
   ]
  },
  {
   "cell_type": "markdown",
   "metadata": {
    "id": "rn7DweMcMpR8"
   },
   "source": [
    "##Extended GCD using Euclidean algorithm"
   ]
  },
  {
   "cell_type": "code",
   "execution_count": 83,
   "metadata": {
    "id": "wqJ5cLGxpDkp"
   },
   "outputs": [],
   "source": [
    "def eGCD(a, b):\n",
    "\tif a < b:\n",
    "    #swap a and b\n",
    "\t\treturn eGCD(b, a)\n",
    "\t# print()\n",
    "\twhile b != 0:\n",
    "\t\t(a, b) = (b, a % b)\n",
    "\treturn a"
   ]
  },
  {
   "cell_type": "markdown",
   "metadata": {
    "id": "whhr-SKyIE4X"
   },
   "source": [
    "The above function computes the gcd of two numbers using Extended Eucledean Algorithm"
   ]
  },
  {
   "cell_type": "code",
   "execution_count": 84,
   "metadata": {
    "colab": {
     "base_uri": "https://localhost:8080/",
     "height": 0
    },
    "id": "cx2TvX3B-a0g",
    "outputId": "5ebe530a-62f7-458f-dd75-01b3c7235ef9"
   },
   "outputs": [
    {
     "name": "stdout",
     "output_type": "stream",
     "text": [
      "GCD of 3 and 17 is 1\n"
     ]
    }
   ],
   "source": [
    "#test Program\n",
    "a,b = 3,17\n",
    "gcd = eGCD(a,b)\n",
    "print(\"GCD of {} and {} is {}\".format(a,b,gcd))"
   ]
  },
  {
   "cell_type": "markdown",
   "metadata": {
    "id": "X-0jDT0vMwZO"
   },
   "source": [
    "###Extended GCD calculation Showing all Steps"
   ]
  },
  {
   "cell_type": "code",
   "execution_count": 85,
   "metadata": {
    "id": "ZttYjxaD70hn"
   },
   "outputs": [],
   "source": [
    "def compute_eGCD(a, b):\n",
    "  if a < b:\n",
    "  #swap a and b\n",
    "    return compute_eGCD(b, a)\n",
    "  # print()\n",
    "  c = 1\n",
    "  while b != 1:\n",
    "    # if flag: print('{} = {} * {} + {} ----- q{} = {}'.format(a, a//b, b, a % b,c,a//b))\n",
    "    print('{} = {} * {} + {} -----> q{} = {}'.format(a, a//b, b, a % b,c,a//b))\n",
    "    (a, b) = (b, a % b)\n",
    "    c +=1"
   ]
  },
  {
   "cell_type": "markdown",
   "metadata": {
    "id": "BF1q_SCKIZr6"
   },
   "source": [
    "The above function computes the Extended GCD and shows each steps of the calculation with quotients ($q_{i})$ in each step.\n",
    "\n",
    "Lets select two random pair of a and b.\n",
    "a,b = 7,3 and\n",
    "a,b = 8,5\n"
   ]
  },
  {
   "cell_type": "code",
   "execution_count": 86,
   "metadata": {
    "colab": {
     "base_uri": "https://localhost:8080/",
     "height": 0
    },
    "id": "U3_TSbgwdcSR",
    "outputId": "87617afb-0ee8-4bf4-8aff-0ca863ea015e"
   },
   "outputs": [
    {
     "name": "stdout",
     "output_type": "stream",
     "text": [
      "15 = 3 * 4 + 3 -----> q1 = 3\n",
      "4 = 1 * 3 + 1 -----> q2 = 1\n"
     ]
    }
   ],
   "source": [
    "#Test 1:\n",
    "# for a= 17 and b = 5\n",
    "a,b = 15,4\n",
    "compute_eGCD(a,b)"
   ]
  },
  {
   "cell_type": "markdown",
   "metadata": {
    "id": "CoGzaxjNeSru"
   },
   "source": [
    "In this case all quotient are not equal to 1. ie. q1 = 3 and q2 = 1. This is not the pair of numbers we are interested in."
   ]
  },
  {
   "cell_type": "code",
   "execution_count": 87,
   "metadata": {
    "colab": {
     "base_uri": "https://localhost:8080/",
     "height": 0
    },
    "id": "BXyLALTcpFPx",
    "outputId": "49d3e5a1-05e6-4987-a7f2-7cba5f8bac84"
   },
   "outputs": [
    {
     "name": "stdout",
     "output_type": "stream",
     "text": [
      "8 = 1 * 5 + 3 -----> q1 = 1\n",
      "5 = 1 * 3 + 2 -----> q2 = 1\n",
      "3 = 1 * 2 + 1 -----> q3 = 1\n"
     ]
    }
   ],
   "source": [
    "#Test 2: \n",
    "#for a = 8, b = 5\n",
    "a,b = 8,5\n",
    "compute_eGCD(a,b)"
   ]
  },
  {
   "cell_type": "markdown",
   "metadata": {
    "id": "tnDmZSMbXAJf"
   },
   "source": [
    "In above calculation of Extended GCD of a and b (a>b), we can see that quotient is equal to 1 in each step. This is the pair of numbers that we are interested in. Now let's check if a and b are consecutive fibonacci number using the function <b> is_consecutive_fibo(a,b) </b>"
   ]
  },
  {
   "cell_type": "markdown",
   "metadata": {
    "id": "ft9yzMwjNANv"
   },
   "source": [
    "###(I) Prove two integers a and b are consecutive fibonacci numbers"
   ]
  },
  {
   "cell_type": "code",
   "execution_count": 88,
   "metadata": {
    "id": "9959p76XNHbP"
   },
   "outputs": [],
   "source": [
    "#check if nummbers are consecutive fibo\n",
    "def is_consecutive_fibo(a,b):\n",
    "  #get max and min of two numbers\n",
    "  large = max(a,b)\n",
    "  small = min(a,b)\n",
    "\n",
    "  #generate fibonacci sequence upto largest number\n",
    "  f_seq = fibo_seq(large)\n",
    "  print(\"Fibonacci Sequence:\",f_seq)\n",
    "\n",
    "  #if numbers are within the sequence then get index of both numbers\n",
    "  if large in f_seq:\n",
    "    ind_l =  f_seq.index(large)\n",
    "    if small in f_seq:\n",
    "      ind_s = f_seq.index(small)\n",
    "      #check if the index of large and small number differ by 1 \n",
    "      #to verify numbers are consecutive\n",
    "      if (ind_l - ind_s) == 1:\n",
    "        print(\"{} and {} are consecutive Fibonacci Numbers\".format(small,large))\n",
    "      else:\n",
    "        # print(1)\n",
    "        print(\"{} and {} are not consecutive Fibonacci Numbers.\".format(small,large))\n",
    "   \n",
    "    else:\n",
    "      # if small number is not in fibonacci sequence\n",
    "      # print(2)\n",
    "      print(\"{} is not Fibonacci Number\".format(small))\n",
    " \n",
    "  else:\n",
    "    #if large number is not in fibonacci sequence\n",
    "    # print(3)\n",
    "    print(\"{} is not Fibonacci Number\".format(large))\n"
   ]
  },
  {
   "cell_type": "code",
   "execution_count": 89,
   "metadata": {
    "colab": {
     "base_uri": "https://localhost:8080/",
     "height": 0
    },
    "id": "Fc70ywX6QxSi",
    "outputId": "0f722c71-6478-4c6e-ae6d-7c36f604cee4"
   },
   "outputs": [
    {
     "name": "stdout",
     "output_type": "stream",
     "text": [
      "Fibonacci Sequence: [0, 1, 1, 2, 3, 5, 8]\n",
      "5 and 8 are consecutive Fibonacci Numbers\n"
     ]
    }
   ],
   "source": [
    "#Test program\n",
    "#a,b (a>b) are two random numbers chosen to commpute extended gcd \n",
    "#whose all quotients are found to be equal to 1\n",
    "a,b = 8,5\n",
    "is_consecutive_fibo(a,b)"
   ]
  },
  {
   "cell_type": "markdown",
   "metadata": {
    "id": "M6JXCZqpadh9"
   },
   "source": [
    "Above test program shows that a and b are consecutive Fibonacci numbers. Where a and b any two integers greater than 0 whose all the quotients $(q_{i})$ are equal to 1, when we compute their extended GCD."
   ]
  },
  {
   "cell_type": "markdown",
   "metadata": {
    "id": "lFY_2K4qcfE5"
   },
   "source": [
    "###(II) Converse: Prove that the quotients are all equal to 1 if a and b are consecutive Fibonacci numbers\n"
   ]
  },
  {
   "cell_type": "markdown",
   "metadata": {
    "id": "1fBIC0gpfUYz"
   },
   "source": [
    "Consider a test fibonacci sequence below 10:\n",
    " [0,1,1,2,3,5,8,13,21]\n",
    "\n",
    "Let (3,2),(13,8),(21,13) be three pairs of consecutive fibonacci numbers. Let's test if thes numbers has all the quotients 1 while calculating extended GCD."
   ]
  },
  {
   "cell_type": "code",
   "execution_count": 90,
   "metadata": {
    "colab": {
     "base_uri": "https://localhost:8080/",
     "height": 0
    },
    "id": "CXvB1DZGgN-J",
    "outputId": "340a77fd-82f6-4dfc-bc4a-2c38f14df827"
   },
   "outputs": [
    {
     "name": "stdout",
     "output_type": "stream",
     "text": [
      "3 = 1 * 2 + 1 -----> q1 = 1\n"
     ]
    }
   ],
   "source": [
    "#Test1 for (1,0)\n",
    "a,b = 3,2\n",
    "compute_eGCD(a,b)"
   ]
  },
  {
   "cell_type": "code",
   "execution_count": 91,
   "metadata": {
    "colab": {
     "base_uri": "https://localhost:8080/",
     "height": 0
    },
    "id": "U34BisXpgjPb",
    "outputId": "a0a27649-5397-40d5-b8b8-2c5904a0d557"
   },
   "outputs": [
    {
     "name": "stdout",
     "output_type": "stream",
     "text": [
      "13 = 1 * 8 + 5 -----> q1 = 1\n",
      "8 = 1 * 5 + 3 -----> q2 = 1\n",
      "5 = 1 * 3 + 2 -----> q3 = 1\n",
      "3 = 1 * 2 + 1 -----> q4 = 1\n"
     ]
    }
   ],
   "source": [
    "#Test3 for 13,8\n",
    "a,b = 13,8\n",
    "compute_eGCD(a,b)"
   ]
  },
  {
   "cell_type": "code",
   "execution_count": 92,
   "metadata": {
    "colab": {
     "base_uri": "https://localhost:8080/",
     "height": 0
    },
    "id": "_fnJPWSlg679",
    "outputId": "e7b1ed1e-7e21-4ef9-aa2d-4ea2b47ba6ae"
   },
   "outputs": [
    {
     "name": "stdout",
     "output_type": "stream",
     "text": [
      "21 = 1 * 13 + 8 -----> q1 = 1\n",
      "13 = 1 * 8 + 5 -----> q2 = 1\n",
      "8 = 1 * 5 + 3 -----> q3 = 1\n",
      "5 = 1 * 3 + 2 -----> q4 = 1\n",
      "3 = 1 * 2 + 1 -----> q5 = 1\n"
     ]
    }
   ],
   "source": [
    "#Test3 for 21,13\n",
    "a,b = 21,13\n",
    "compute_eGCD(a,b)"
   ]
  },
  {
   "cell_type": "markdown",
   "metadata": {
    "id": "S3Ob0PRjhQA_"
   },
   "source": [
    "All three test cases shows that quotients are equal to 1 in each steps while calculating extended GCD.So it proves that the quotients are all equal to 1 if a and b are consecutive Fibonacci numbers."
   ]
  },
  {
   "cell_type": "markdown",
   "metadata": {
    "id": "IVaj0czSzkT3"
   },
   "source": [
    "#Qn. N 4.\n",
    "\n",
    "\n"
   ]
  },
  {
   "cell_type": "markdown",
   "metadata": {
    "id": "ABrdwi3d44gT"
   },
   "source": [
    "<b>Solving Strategy</b>\n",
    "\n",
    "Step1: Take input list of  of odd numbers upto n.\n",
    "\n",
    "Step 2: Find list of odd numbers n that has k - distinct prime factors.\n",
    "\n",
    "step 3: Find the number of distinct prime factors $(k)$ that a number has\n",
    "\n",
    "step 4: Find the number of solutions $(m)$ for $x^2 = 1(mod n)$ \n",
    "\n",
    "Step 5: Check if $m = 2^k$\n",
    "\n",
    "Step 6: if Step 5 is true then Proved.\n"
   ]
  },
  {
   "cell_type": "markdown",
   "metadata": {
    "id": "9n0E_ieYHO-T"
   },
   "source": [
    "##Step1: Take input list of  of odd numbers upto n."
   ]
  },
  {
   "cell_type": "code",
   "execution_count": 93,
   "metadata": {
    "id": "oHL284S4o6D5"
   },
   "outputs": [],
   "source": [
    "# Step1: Take input list of of odd numbers upto n\n",
    "def get_odd(n):\n",
    "  odd = []\n",
    "  for i in range(0,n):\n",
    "    if i%2 != 0:\n",
    "      odd.append(i)\n",
    "  return odd"
   ]
  },
  {
   "cell_type": "code",
   "execution_count": 94,
   "metadata": {
    "colab": {
     "base_uri": "https://localhost:8080/",
     "height": 0
    },
    "id": "2zELnUNWu7bW",
    "outputId": "4fb77b6f-4648-4166-dbdb-42200f4026ff"
   },
   "outputs": [
    {
     "name": "stdout",
     "output_type": "stream",
     "text": [
      "[1, 3, 5, 7, 9]\n"
     ]
    }
   ],
   "source": [
    "#test code\n",
    "odd = get_odd(10)\n",
    "print(odd)\n"
   ]
  },
  {
   "cell_type": "markdown",
   "metadata": {
    "id": "B7T23-CmHWA7"
   },
   "source": [
    "##Step 2: Find odd numbers n that has k - distinct prime factors."
   ]
  },
  {
   "cell_type": "code",
   "execution_count": 95,
   "metadata": {
    "id": "9t5F1wQIvWit"
   },
   "outputs": [],
   "source": [
    "# Step 2: Find odd numbers n that has k - distinct prime factors.\n",
    "\n",
    "import math\n",
    "def get_Prime_Factors(f):\n",
    "  # n is given number\n",
    "\n",
    "  # f = n! --> is factorial of n\n",
    "  # f = compute_fact(n)\n",
    "\n",
    "  #pf is a list of prime factors of f\n",
    "  pf = []\n",
    "\n",
    "  # Print the number of two's that divide f\n",
    "  while f % 2 == 0:\n",
    "    # print(2)\n",
    "    pf.append(2)\n",
    "    f = f / 2\n",
    "      \n",
    "  # if f is odd, skip by 2 ( k = k + 2)\n",
    "  for k in range(3,int(math.sqrt(f))+1,2):\n",
    "\n",
    "    # while i divides f , print k and progress\n",
    "    while f % k == 0:\n",
    "      # print(k)\n",
    "      pf.append(k)\n",
    "      f = f / k         \n",
    "  #if f is a prime number greater than 2\n",
    "  if f > 2:\n",
    "    pf.append(int(f))\n",
    "  return pf"
   ]
  },
  {
   "cell_type": "code",
   "execution_count": 96,
   "metadata": {
    "colab": {
     "base_uri": "https://localhost:8080/",
     "height": 0
    },
    "id": "TYhZPfi8yNnl",
    "outputId": "24137b53-0a29-47fb-eaf3-cd45acd76b0f"
   },
   "outputs": [
    {
     "name": "stdout",
     "output_type": "stream",
     "text": [
      "[1, 3, 5, 7, 9, 11, 13, 15, 17, 19, 21, 23, 25, 27, 29, 31, 33, 35, 37, 39, 41, 43, 45, 47, 49, 51, 53, 55, 57, 59, 61, 63, 65, 67, 69, 71, 73, 75, 77, 79, 81, 83, 85, 87, 89, 91, 93, 95, 97, 99]\n"
     ]
    }
   ],
   "source": [
    "odd = get_odd(100)\n",
    "print(odd)"
   ]
  },
  {
   "cell_type": "markdown",
   "metadata": {
    "id": "WOCOoPsGHizc"
   },
   "source": [
    "##Step 3: Find the number of distinct prime factors (k) that a number has"
   ]
  },
  {
   "cell_type": "code",
   "execution_count": 97,
   "metadata": {
    "id": "8plNGZ0Yxwuv"
   },
   "outputs": [],
   "source": [
    "#Find the odd numbers having k distinct prime factors than n\n",
    "def distinct_prime_factors(odd_list):\n",
    "  for i in odd:\n",
    "    pf = get_Prime_Factors(i)\n",
    "    pf = remove_dup(pf)\n",
    "    size = len(pf)\n",
    "    if len(pf)>1:\n",
    "      print(\"{}-->{} has {} distinct prime factors\".format(i,pf,size))\n",
    "    "
   ]
  },
  {
   "cell_type": "code",
   "execution_count": 98,
   "metadata": {
    "id": "ga8QPZfN0Bm7"
   },
   "outputs": [],
   "source": [
    "#removes duplicate prime factors and retuns new list\n",
    "def remove_dup(pf):\n",
    "  sNew = []\n",
    "  for prime in pf:\n",
    "      if prime not in sNew:\n",
    "          sNew.append(prime)\n",
    "\n",
    "  return sNew"
   ]
  },
  {
   "cell_type": "code",
   "execution_count": 99,
   "metadata": {
    "colab": {
     "base_uri": "https://localhost:8080/",
     "height": 0
    },
    "id": "EFJ3hLu21QSE",
    "outputId": "c25cebee-3b8e-404f-ebd1-28a7304d5a16"
   },
   "outputs": [
    {
     "name": "stdout",
     "output_type": "stream",
     "text": [
      "15-->[3, 5] has 2 distinct prime factors\n",
      "21-->[3, 7] has 2 distinct prime factors\n",
      "33-->[3, 11] has 2 distinct prime factors\n",
      "35-->[5, 7] has 2 distinct prime factors\n",
      "39-->[3, 13] has 2 distinct prime factors\n",
      "45-->[3, 5] has 2 distinct prime factors\n",
      "51-->[3, 17] has 2 distinct prime factors\n",
      "55-->[5, 11] has 2 distinct prime factors\n",
      "57-->[3, 19] has 2 distinct prime factors\n",
      "63-->[3, 7] has 2 distinct prime factors\n",
      "65-->[5, 13] has 2 distinct prime factors\n",
      "69-->[3, 23] has 2 distinct prime factors\n",
      "75-->[3, 5] has 2 distinct prime factors\n",
      "77-->[7, 11] has 2 distinct prime factors\n",
      "85-->[5, 17] has 2 distinct prime factors\n",
      "87-->[3, 29] has 2 distinct prime factors\n",
      "91-->[7, 13] has 2 distinct prime factors\n",
      "93-->[3, 31] has 2 distinct prime factors\n",
      "95-->[5, 19] has 2 distinct prime factors\n",
      "99-->[3, 11] has 2 distinct prime factors\n"
     ]
    }
   ],
   "source": [
    "# test code\n",
    "# odd: list of prime odd numbers less than or equal to n\n",
    "n = 100\n",
    "odd = get_odd(n)\n",
    "\n",
    "distinct_prime_factors(odd)"
   ]
  },
  {
   "cell_type": "code",
   "execution_count": 100,
   "metadata": {
    "id": "w_ER4zwM3rEC"
   },
   "outputs": [],
   "source": [
    "def size_of_pf(o):\n",
    "  # for i in odd:\n",
    "    pf = get_Prime_Factors(o)\n",
    "    pf = remove_dup(pf)\n",
    "    k = len(pf)\n",
    "    if len(pf)>1:\n",
    "      print(\"{} has k = {} distinct prime factors\".format(o,k))\n",
    "    # return k"
   ]
  },
  {
   "cell_type": "code",
   "execution_count": 101,
   "metadata": {
    "colab": {
     "base_uri": "https://localhost:8080/",
     "height": 0
    },
    "id": "7r2gkBZJ4F5Z",
    "outputId": "145188f6-8b14-469b-d65e-c33fc5631b8c"
   },
   "outputs": [
    {
     "name": "stdout",
     "output_type": "stream",
     "text": [
      "57 has k = 2 distinct prime factors\n"
     ]
    }
   ],
   "source": [
    "size_of_pf(57)"
   ]
  },
  {
   "cell_type": "markdown",
   "metadata": {
    "id": "4c0NM9QKIXit"
   },
   "source": [
    "##Step 4: Find the number of solutions $(m)$ for $x^2 = 1$ (mod n)\n",
    "\n",
    "\n",
    "\n"
   ]
  },
  {
   "cell_type": "markdown",
   "metadata": {
    "id": "PwPKhKwaU-pO"
   },
   "source": [
    "Suppose we have list of odd numbers that are not prime and has k distinct prime factors."
   ]
  },
  {
   "cell_type": "code",
   "execution_count": 102,
   "metadata": {
    "colab": {
     "base_uri": "https://localhost:8080/",
     "height": 0
    },
    "id": "AFXyff6GZT1G",
    "outputId": "488b4cac-3215-4cf1-8461-555db759a59d"
   },
   "outputs": [
    {
     "name": "stdout",
     "output_type": "stream",
     "text": [
      "15-->[3, 5] has 2 distinct prime factors\n",
      "21-->[3, 7] has 2 distinct prime factors\n",
      "33-->[3, 11] has 2 distinct prime factors\n",
      "35-->[5, 7] has 2 distinct prime factors\n",
      "39-->[3, 13] has 2 distinct prime factors\n",
      "45-->[3, 5] has 2 distinct prime factors\n",
      "51-->[3, 17] has 2 distinct prime factors\n",
      "55-->[5, 11] has 2 distinct prime factors\n",
      "57-->[3, 19] has 2 distinct prime factors\n",
      "63-->[3, 7] has 2 distinct prime factors\n",
      "65-->[5, 13] has 2 distinct prime factors\n",
      "69-->[3, 23] has 2 distinct prime factors\n",
      "75-->[3, 5] has 2 distinct prime factors\n",
      "77-->[7, 11] has 2 distinct prime factors\n",
      "85-->[5, 17] has 2 distinct prime factors\n",
      "87-->[3, 29] has 2 distinct prime factors\n",
      "91-->[7, 13] has 2 distinct prime factors\n",
      "93-->[3, 31] has 2 distinct prime factors\n",
      "95-->[5, 19] has 2 distinct prime factors\n",
      "99-->[3, 11] has 2 distinct prime factors\n"
     ]
    }
   ],
   "source": [
    "n = 100\n",
    "odd = get_odd(n)\n",
    "distinct_prime_factors(odd)"
   ]
  },
  {
   "cell_type": "markdown",
   "metadata": {
    "id": "ezEU5SjtbFnk"
   },
   "source": [
    "Lets take any two odd numbers which are odd but has k distince prime factors: 39, 91.\n"
   ]
  },
  {
   "cell_type": "code",
   "execution_count": 103,
   "metadata": {
    "colab": {
     "base_uri": "https://localhost:8080/",
     "height": 0
    },
    "id": "eFN318glbJcu",
    "outputId": "ed6a4cc1-ad26-45e1-f5d0-1db349f2e35c"
   },
   "outputs": [
    {
     "name": "stdout",
     "output_type": "stream",
     "text": [
      "39 has k = 2 distinct prime factors\n",
      "75 has k = 2 distinct prime factors\n"
     ]
    }
   ],
   "source": [
    "o1 = 39\n",
    "o2 = 75\n",
    "size_of_pf(o1)\n",
    "size_of_pf(o2)"
   ]
  },
  {
   "cell_type": "markdown",
   "metadata": {
    "id": "7jkyH8wcbbsh"
   },
   "source": [
    "So, 39 has 2 prime factors: 3,13 and 75 has 2 prime factors 3, 5\n",
    "\n",
    "Now Solving\n",
    "$x^2 = 1 $ Mod 39\n",
    "\n",
    "we have,\n",
    "\n",
    "$x^2 -1$ = 0 Mod 3\n",
    "\n",
    "and\n",
    "\n",
    "$x^2 -1$ = 0 Mod 13\n",
    "\n",
    "Solving $x^2 -1$ = 0 Mod 3 we get,\n",
    "\n",
    "x = 1 mod 3 \n",
    "\n",
    "and\n",
    "\n",
    "x = -1 mod 3\n",
    "\n",
    "or, x = 2 mod 3\n",
    "\n",
    "so, x = 1,2\n",
    "\n",
    "\n",
    "Again Solving $x^2 -1$ = 0 Mod 13 we get,\n",
    "\n",
    "x = 1 mod 13\n",
    "\n",
    "x = -1 mod 13\n",
    "\n",
    "or x = 12 (mod 13)\n",
    "\n",
    "so x = 1,12\n",
    "\n",
    "So, there are total 4 solution of x for $x^2 = 1 $ (Mod 39) which is $2^k = 2^2 = 4$.\n",
    "\n",
    "$x^2 = 1 $ Mod 75\n",
    "\n",
    "we have\n",
    "\n",
    "$x^2 = 1 $ Mod 3\n",
    "\n",
    "and\n",
    "\n",
    "$x^2 = 1 $ Mod 5\n",
    "\n",
    "for $x^2 = 1 $ Mod 3 we have 2 solutions:\n",
    "\n",
    "1 and 2\n",
    "\n",
    "and for $x^2 = 1 $ Mod 5 we have 2 solutions:\n",
    "\n",
    "1 and 4\n",
    "\n",
    "\n",
    "So, $x^2 = 1 $ Mod 75 has total of 4 solution \n",
    "\n",
    "\n",
    "\n"
   ]
  },
  {
   "cell_type": "markdown",
   "metadata": {
    "id": "79c3k3YO5Slx"
   },
   "source": [
    "##Step 5:\n",
    "so, Number of solutions of $x^2 = 1$ (mod n)are m =  4\n",
    "\n",
    "and n has k = 2 distinct prime factors.\n",
    "\n",
    "So,\n",
    "$2^k = 2^2 = 4$\n",
    "\n",
    "Thus,\n",
    "\n",
    "m = $2^k$\n",
    "\n",
    "\n",
    "Hence, If n is odd and has k distinct prime factors then the\n",
    "number of solutions of $x^2 = 1$ (mod n) is equal to $2^k$\n",
    "\n",
    "\n",
    "\n"
   ]
  },
  {
   "cell_type": "markdown",
   "metadata": {
    "id": "HISj9vUyH0-5"
   },
   "source": [
    "#QN 5 \n",
    "For arithmetic modulo n, Let $Z_{n}$ be the set of reminders/residues. where n is any integer.\n",
    "so $Z_{n} = ${0,1,2,3,4...n-1}}\n",
    "\n",
    "if n is prime number then\n",
    "$Z_{p}$ is a finite field $F_{p}$\n",
    "\n",
    "\n",
    "Also $Z^*_{p}$ represent the field whose elements are co-prime of p\n",
    "\n",
    "i.e $Z^*_{p}$ = {a $ϵ$ $Z_{p}$ : gcd(a,p) = 1}\n",
    "\n",
    "if p = 7 then,\n",
    "\n",
    "$Z^*_{7} = F^*_{7} = $ {1,2,3,4,5,6}\n",
    "\n",
    "<b>Generator of Finite Field</b>\n",
    "\n",
    "Generator g of a finite field is an element/member of a group\n",
    "(G,*) which can represent all the elements in the group with its power.\n",
    "\n",
    "From the definition of Generator, Following python program checks which elements in the GF(7) are generator.\n",
    "\n",
    "\n",
    "\n",
    "\n",
    "\n",
    "\n",
    "\n",
    "\n"
   ]
  },
  {
   "cell_type": "code",
   "execution_count": 104,
   "metadata": {
    "colab": {
     "base_uri": "https://localhost:8080/",
     "height": 0
    },
    "id": "ccbHQDLWPJ4w",
    "outputId": "0d2744f0-4da8-4c12-d764-00ba4c08ef80"
   },
   "outputs": [
    {
     "name": "stdout",
     "output_type": "stream",
     "text": [
      "for i = 1\n",
      "[1, 1, 1, 1, 1, 1, 1, 1, 1, 1, 1, 1]\n",
      "for i = 2\n",
      "[2, 4, 1, 2, 4, 1, 2, 4, 1, 2, 4, 1]\n",
      "for i = 3\n",
      "[3, 2, 6, 4, 5, 1, 3, 2, 6, 4, 5, 1]\n",
      "for i = 4\n",
      "[4, 2, 1, 4, 2, 1, 4, 2, 1, 4, 2, 1]\n",
      "for i = 5\n",
      "[5, 4, 6, 2, 3, 1, 5, 4, 6, 2, 3, 1]\n",
      "for i = 6\n",
      "[6, 1, 6, 1, 6, 1, 6, 1, 6, 1, 6, 1]\n"
     ]
    }
   ],
   "source": [
    "# Generate (Z7,+) and check if the element is a generator.\n",
    "for i in range(1,7):\n",
    "  print(\"for i = {}\".format(i))\n",
    "  print([(i**x)%7 for x in range(1,13)])"
   ]
  },
  {
   "cell_type": "markdown",
   "metadata": {
    "id": "lwyjHMuPQd5u"
   },
   "source": [
    "From the above output it can be seen that only 3 and 5 are able to represent all the members in the group using their powers upto 10. So 3 and 5 are generater of the group Z7.\n",
    "\n",
    "If 3 and 5 are generators they should also satisfy the condition\n",
    "$g^{p−1} = 1$\n",
    "(mod p) and $g^q$ != 1 (mod p) for all prime divisors q of p-1\n",
    "\n",
    "So Lets check if 3 and 5 satisfy the above conditions.\n",
    "\n",
    "p = 7\n",
    "\n",
    "p-1 = 6\n",
    "\n",
    "q = primer factors of p-1 = {2,3}\n",
    "\n",
    "<b>For 3:</b> \n",
    ">1. Checking if $g^{p−1} = 1$ (mod p)\n",
    "\n",
    ">>$3^6 = 729 = 1$ (mod 7) which is TRUE\n",
    "\n",
    "and \n",
    ">2.Checking if $g^q$ != 1 (mod p) is True:\n",
    "\n",
    ">>$3^2 = 9 = 2 ! = 1$ (mod 7) which is  True\n",
    "\n",
    ">>and \n",
    "\n",
    ">>$3^3 = 27 = 6 ! = 1$ (mod 7) which is also True\n",
    "\n",
    "Hence 3 is a generator.\n",
    "\n",
    "\n",
    "<b>For 5:</b> \n",
    ">1. Checking if $g^{p−1} = 1$ (mod p)\n",
    "\n",
    ">>$5^6 = 15625 = 1$ (mod 7) which is TRUE\n",
    "\n",
    "and \n",
    ">2.Checking if $g^q$ != 1 (mod p) is TRUE:\n",
    "\n",
    ">>$5^2 = 25 = 4 ! = 1$ (mod 7) which is  TRUE\n",
    "\n",
    ">>and \n",
    "\n",
    ">>$5^3 = 125 = 6 ! = 1$ (mod 7) which is also TRUE\n",
    "\n",
    "5 Satisfies all two conditions.\n",
    "Hence 5 is a generator.\n",
    "\n",
    "Now,let's check the condition for an element 2 which is not a generator.\n",
    "\n",
    ">>2^6 = 64 = 1 mod 7 which is true\n",
    "\n",
    "and\n",
    "\n",
    ">>2^2 = 4 != 1 mod 7 which is TRUE\n",
    "\n",
    ">>2^3  = 8 = 1 mod 7 which is FALSE\n",
    "\n",
    "So 2 does not satisfies both condition since it is not a generator.\n",
    "\n",
    "\n",
    "Hence it is proved that if and only if $g^{p−1} = 1$\n",
    "(mod p) and $g^q$ != 1 (mod p) for all prime divisors q of p-1, then g is a generator.\n",
    "\n",
    "\n",
    "\n",
    "\n",
    "\n",
    "\n",
    "\n",
    "\n",
    "\n",
    "\n",
    "\n",
    "\n",
    "\n",
    "\n",
    "\n",
    "\n",
    "\n"
   ]
  },
  {
   "cell_type": "markdown",
   "metadata": {
    "id": "kvcuO8Ig6etF"
   },
   "source": [
    "#Q.N 6"
   ]
  },
  {
   "cell_type": "markdown",
   "metadata": {
    "id": "TKKN6Jo8O4sr"
   },
   "source": [
    "Field $GF(p^n)^* = F_{p^n}^* = GF(p^n)$ – {0} \n",
    "is a cyclic group under multiplication, and the generators of this group are considered as primitive elements of the field."
   ]
  },
  {
   "cell_type": "markdown",
   "metadata": {
    "id": "F4aeG-3XxAoe"
   },
   "source": [
    "##Order of Element in the cyclic sub group\n",
    "\n",
    "Order of a modulo n is the smallest positive integer m such that $a^m \\cong 1$ (mod n)\n"
   ]
  },
  {
   "cell_type": "code",
   "execution_count": 105,
   "metadata": {
    "id": "pZsDEFi2gm71"
   },
   "outputs": [],
   "source": [
    "#return the order of an element \n",
    "#cycle: is an list of cyclic subgroup\n",
    "def get_order(cycle):\n",
    "  for i in cycle:\n",
    "    if i==1:\n",
    "      order = cycle.index(i) + 1\n",
    "      return order\n"
   ]
  },
  {
   "cell_type": "markdown",
   "metadata": {
    "id": "h5YAJOiCW-Fg"
   },
   "source": [
    "Above function returns the order of field element by checking the index of 1 in the cyclic subgroup of generated from the power of that element."
   ]
  },
  {
   "cell_type": "code",
   "execution_count": 106,
   "metadata": {
    "colab": {
     "base_uri": "https://localhost:8080/",
     "height": 0
    },
    "id": "NnMXtg6UhccF",
    "outputId": "99f7f619-0902-4742-c67b-05c7d8adb6d6"
   },
   "outputs": [
    {
     "data": {
      "text/plain": [
       "2"
      ]
     },
     "execution_count": 106,
     "metadata": {},
     "output_type": "execute_result"
    }
   ],
   "source": [
    "#test program\n",
    "# cyclic sub group generated from the power of 3 in GF(2^n)\n",
    "cy = [3, 1, 3, 1, 3, 1]\n",
    "get_order(cy)"
   ]
  },
  {
   "cell_type": "markdown",
   "metadata": {
    "id": "jospY9QTxLsH"
   },
   "source": [
    "##Generate cyclic-Sub group using the power of element mod $2^n$  and check if the elements are generators of the group. Then generate the list of Primitive elements if they exist in the group."
   ]
  },
  {
   "cell_type": "code",
   "execution_count": 107,
   "metadata": {
    "id": "gHy1f-f8-cAT"
   },
   "outputs": [],
   "source": [
    "#range of n in GF(2^n): 1<=n<=8 \n",
    "def cyclic_subgroup(start,end):\n",
    "  for n in range(start,end): \n",
    "    a = 2**n\n",
    "    print(\"----------------------------------------\")\n",
    "    print(\"for GF(2^{})\".format(n))\n",
    "    print(\"\\nElements are:{}\".format([i for i in range(a)]))\n",
    "    # print([i for i in range(n)])\n",
    "    print(\"----------------------------------------\")\n",
    "    # i represents elements in field f\n",
    "    #gen is the list of generaters present in the group\n",
    "    gen = []\n",
    "    for i in range(1,a):\n",
    "      print(\"for i = {}\".format(i))\n",
    "      #cycle is the list of cyclic sub-group\n",
    "      #x represent the power of an element upto 20\n",
    "      cycle = [(i*x)%a for x in range(1,20)]\n",
    "      # order: order of element\n",
    "      order = get_order(cycle)\n",
    "      print(cycle)\n",
    "      # phi: phi gives number of totatives from Euler's totient \n",
    "      # phi = n-1\n",
    "      phi = a-1 \n",
    "      if(order == phi):\n",
    "        gen.append(i)\n",
    "        print(\"\\n{} is a primitive element\".format(i))\n",
    "    # if (len(gen)!= 0):\n",
    "    #   print(\"generators are:\",gen)\n",
    "    # else:\n",
    "    #   print(\"There are no generators in this group\")"
   ]
  },
  {
   "cell_type": "code",
   "execution_count": 108,
   "metadata": {
    "colab": {
     "base_uri": "https://localhost:8080/",
     "height": 0
    },
    "id": "w9x_syqGYv0A",
    "outputId": "3c1cd5ba-8223-4a96-ffb3-d53d53486383"
   },
   "outputs": [
    {
     "name": "stdout",
     "output_type": "stream",
     "text": [
      "----------------------------------------\n",
      "for GF(2^1)\n",
      "\n",
      "Elements are:[0, 1]\n",
      "----------------------------------------\n",
      "for i = 1\n",
      "[1, 0, 1, 0, 1, 0, 1, 0, 1, 0, 1, 0, 1, 0, 1, 0, 1, 0, 1]\n",
      "\n",
      "1 is a primitive element\n",
      "----------------------------------------\n",
      "for GF(2^2)\n",
      "\n",
      "Elements are:[0, 1, 2, 3]\n",
      "----------------------------------------\n",
      "for i = 1\n",
      "[1, 2, 3, 0, 1, 2, 3, 0, 1, 2, 3, 0, 1, 2, 3, 0, 1, 2, 3]\n",
      "for i = 2\n",
      "[2, 0, 2, 0, 2, 0, 2, 0, 2, 0, 2, 0, 2, 0, 2, 0, 2, 0, 2]\n",
      "for i = 3\n",
      "[3, 2, 1, 0, 3, 2, 1, 0, 3, 2, 1, 0, 3, 2, 1, 0, 3, 2, 1]\n",
      "\n",
      "3 is a primitive element\n",
      "----------------------------------------\n",
      "for GF(2^3)\n",
      "\n",
      "Elements are:[0, 1, 2, 3, 4, 5, 6, 7]\n",
      "----------------------------------------\n",
      "for i = 1\n",
      "[1, 2, 3, 4, 5, 6, 7, 0, 1, 2, 3, 4, 5, 6, 7, 0, 1, 2, 3]\n",
      "for i = 2\n",
      "[2, 4, 6, 0, 2, 4, 6, 0, 2, 4, 6, 0, 2, 4, 6, 0, 2, 4, 6]\n",
      "for i = 3\n",
      "[3, 6, 1, 4, 7, 2, 5, 0, 3, 6, 1, 4, 7, 2, 5, 0, 3, 6, 1]\n",
      "for i = 4\n",
      "[4, 0, 4, 0, 4, 0, 4, 0, 4, 0, 4, 0, 4, 0, 4, 0, 4, 0, 4]\n",
      "for i = 5\n",
      "[5, 2, 7, 4, 1, 6, 3, 0, 5, 2, 7, 4, 1, 6, 3, 0, 5, 2, 7]\n",
      "for i = 6\n",
      "[6, 4, 2, 0, 6, 4, 2, 0, 6, 4, 2, 0, 6, 4, 2, 0, 6, 4, 2]\n",
      "for i = 7\n",
      "[7, 6, 5, 4, 3, 2, 1, 0, 7, 6, 5, 4, 3, 2, 1, 0, 7, 6, 5]\n",
      "\n",
      "7 is a primitive element\n",
      "----------------------------------------\n",
      "for GF(2^4)\n",
      "\n",
      "Elements are:[0, 1, 2, 3, 4, 5, 6, 7, 8, 9, 10, 11, 12, 13, 14, 15]\n",
      "----------------------------------------\n",
      "for i = 1\n",
      "[1, 2, 3, 4, 5, 6, 7, 8, 9, 10, 11, 12, 13, 14, 15, 0, 1, 2, 3]\n",
      "for i = 2\n",
      "[2, 4, 6, 8, 10, 12, 14, 0, 2, 4, 6, 8, 10, 12, 14, 0, 2, 4, 6]\n",
      "for i = 3\n",
      "[3, 6, 9, 12, 15, 2, 5, 8, 11, 14, 1, 4, 7, 10, 13, 0, 3, 6, 9]\n",
      "for i = 4\n",
      "[4, 8, 12, 0, 4, 8, 12, 0, 4, 8, 12, 0, 4, 8, 12, 0, 4, 8, 12]\n",
      "for i = 5\n",
      "[5, 10, 15, 4, 9, 14, 3, 8, 13, 2, 7, 12, 1, 6, 11, 0, 5, 10, 15]\n",
      "for i = 6\n",
      "[6, 12, 2, 8, 14, 4, 10, 0, 6, 12, 2, 8, 14, 4, 10, 0, 6, 12, 2]\n",
      "for i = 7\n",
      "[7, 14, 5, 12, 3, 10, 1, 8, 15, 6, 13, 4, 11, 2, 9, 0, 7, 14, 5]\n",
      "for i = 8\n",
      "[8, 0, 8, 0, 8, 0, 8, 0, 8, 0, 8, 0, 8, 0, 8, 0, 8, 0, 8]\n",
      "for i = 9\n",
      "[9, 2, 11, 4, 13, 6, 15, 8, 1, 10, 3, 12, 5, 14, 7, 0, 9, 2, 11]\n",
      "for i = 10\n",
      "[10, 4, 14, 8, 2, 12, 6, 0, 10, 4, 14, 8, 2, 12, 6, 0, 10, 4, 14]\n",
      "for i = 11\n",
      "[11, 6, 1, 12, 7, 2, 13, 8, 3, 14, 9, 4, 15, 10, 5, 0, 11, 6, 1]\n",
      "for i = 12\n",
      "[12, 8, 4, 0, 12, 8, 4, 0, 12, 8, 4, 0, 12, 8, 4, 0, 12, 8, 4]\n",
      "for i = 13\n",
      "[13, 10, 7, 4, 1, 14, 11, 8, 5, 2, 15, 12, 9, 6, 3, 0, 13, 10, 7]\n",
      "for i = 14\n",
      "[14, 12, 10, 8, 6, 4, 2, 0, 14, 12, 10, 8, 6, 4, 2, 0, 14, 12, 10]\n",
      "for i = 15\n",
      "[15, 14, 13, 12, 11, 10, 9, 8, 7, 6, 5, 4, 3, 2, 1, 0, 15, 14, 13]\n",
      "\n",
      "15 is a primitive element\n",
      "----------------------------------------\n",
      "for GF(2^5)\n",
      "\n",
      "Elements are:[0, 1, 2, 3, 4, 5, 6, 7, 8, 9, 10, 11, 12, 13, 14, 15, 16, 17, 18, 19, 20, 21, 22, 23, 24, 25, 26, 27, 28, 29, 30, 31]\n",
      "----------------------------------------\n",
      "for i = 1\n",
      "[1, 2, 3, 4, 5, 6, 7, 8, 9, 10, 11, 12, 13, 14, 15, 16, 17, 18, 19]\n",
      "for i = 2\n",
      "[2, 4, 6, 8, 10, 12, 14, 16, 18, 20, 22, 24, 26, 28, 30, 0, 2, 4, 6]\n",
      "for i = 3\n",
      "[3, 6, 9, 12, 15, 18, 21, 24, 27, 30, 1, 4, 7, 10, 13, 16, 19, 22, 25]\n",
      "for i = 4\n",
      "[4, 8, 12, 16, 20, 24, 28, 0, 4, 8, 12, 16, 20, 24, 28, 0, 4, 8, 12]\n",
      "for i = 5\n",
      "[5, 10, 15, 20, 25, 30, 3, 8, 13, 18, 23, 28, 1, 6, 11, 16, 21, 26, 31]\n",
      "for i = 6\n",
      "[6, 12, 18, 24, 30, 4, 10, 16, 22, 28, 2, 8, 14, 20, 26, 0, 6, 12, 18]\n",
      "for i = 7\n",
      "[7, 14, 21, 28, 3, 10, 17, 24, 31, 6, 13, 20, 27, 2, 9, 16, 23, 30, 5]\n",
      "for i = 8\n",
      "[8, 16, 24, 0, 8, 16, 24, 0, 8, 16, 24, 0, 8, 16, 24, 0, 8, 16, 24]\n",
      "for i = 9\n",
      "[9, 18, 27, 4, 13, 22, 31, 8, 17, 26, 3, 12, 21, 30, 7, 16, 25, 2, 11]\n",
      "for i = 10\n",
      "[10, 20, 30, 8, 18, 28, 6, 16, 26, 4, 14, 24, 2, 12, 22, 0, 10, 20, 30]\n",
      "for i = 11\n",
      "[11, 22, 1, 12, 23, 2, 13, 24, 3, 14, 25, 4, 15, 26, 5, 16, 27, 6, 17]\n",
      "for i = 12\n",
      "[12, 24, 4, 16, 28, 8, 20, 0, 12, 24, 4, 16, 28, 8, 20, 0, 12, 24, 4]\n",
      "for i = 13\n",
      "[13, 26, 7, 20, 1, 14, 27, 8, 21, 2, 15, 28, 9, 22, 3, 16, 29, 10, 23]\n",
      "for i = 14\n",
      "[14, 28, 10, 24, 6, 20, 2, 16, 30, 12, 26, 8, 22, 4, 18, 0, 14, 28, 10]\n",
      "for i = 15\n",
      "[15, 30, 13, 28, 11, 26, 9, 24, 7, 22, 5, 20, 3, 18, 1, 16, 31, 14, 29]\n",
      "for i = 16\n",
      "[16, 0, 16, 0, 16, 0, 16, 0, 16, 0, 16, 0, 16, 0, 16, 0, 16, 0, 16]\n",
      "for i = 17\n",
      "[17, 2, 19, 4, 21, 6, 23, 8, 25, 10, 27, 12, 29, 14, 31, 16, 1, 18, 3]\n",
      "for i = 18\n",
      "[18, 4, 22, 8, 26, 12, 30, 16, 2, 20, 6, 24, 10, 28, 14, 0, 18, 4, 22]\n",
      "for i = 19\n",
      "[19, 6, 25, 12, 31, 18, 5, 24, 11, 30, 17, 4, 23, 10, 29, 16, 3, 22, 9]\n",
      "for i = 20\n",
      "[20, 8, 28, 16, 4, 24, 12, 0, 20, 8, 28, 16, 4, 24, 12, 0, 20, 8, 28]\n",
      "for i = 21\n",
      "[21, 10, 31, 20, 9, 30, 19, 8, 29, 18, 7, 28, 17, 6, 27, 16, 5, 26, 15]\n",
      "for i = 22\n",
      "[22, 12, 2, 24, 14, 4, 26, 16, 6, 28, 18, 8, 30, 20, 10, 0, 22, 12, 2]\n",
      "for i = 23\n",
      "[23, 14, 5, 28, 19, 10, 1, 24, 15, 6, 29, 20, 11, 2, 25, 16, 7, 30, 21]\n",
      "for i = 24\n",
      "[24, 16, 8, 0, 24, 16, 8, 0, 24, 16, 8, 0, 24, 16, 8, 0, 24, 16, 8]\n",
      "for i = 25\n",
      "[25, 18, 11, 4, 29, 22, 15, 8, 1, 26, 19, 12, 5, 30, 23, 16, 9, 2, 27]\n",
      "for i = 26\n",
      "[26, 20, 14, 8, 2, 28, 22, 16, 10, 4, 30, 24, 18, 12, 6, 0, 26, 20, 14]\n",
      "for i = 27\n",
      "[27, 22, 17, 12, 7, 2, 29, 24, 19, 14, 9, 4, 31, 26, 21, 16, 11, 6, 1]\n",
      "for i = 28\n",
      "[28, 24, 20, 16, 12, 8, 4, 0, 28, 24, 20, 16, 12, 8, 4, 0, 28, 24, 20]\n",
      "for i = 29\n",
      "[29, 26, 23, 20, 17, 14, 11, 8, 5, 2, 31, 28, 25, 22, 19, 16, 13, 10, 7]\n",
      "for i = 30\n",
      "[30, 28, 26, 24, 22, 20, 18, 16, 14, 12, 10, 8, 6, 4, 2, 0, 30, 28, 26]\n",
      "for i = 31\n",
      "[31, 30, 29, 28, 27, 26, 25, 24, 23, 22, 21, 20, 19, 18, 17, 16, 15, 14, 13]\n",
      "----------------------------------------\n",
      "for GF(2^6)\n",
      "\n",
      "Elements are:[0, 1, 2, 3, 4, 5, 6, 7, 8, 9, 10, 11, 12, 13, 14, 15, 16, 17, 18, 19, 20, 21, 22, 23, 24, 25, 26, 27, 28, 29, 30, 31, 32, 33, 34, 35, 36, 37, 38, 39, 40, 41, 42, 43, 44, 45, 46, 47, 48, 49, 50, 51, 52, 53, 54, 55, 56, 57, 58, 59, 60, 61, 62, 63]\n",
      "----------------------------------------\n",
      "for i = 1\n",
      "[1, 2, 3, 4, 5, 6, 7, 8, 9, 10, 11, 12, 13, 14, 15, 16, 17, 18, 19]\n",
      "for i = 2\n",
      "[2, 4, 6, 8, 10, 12, 14, 16, 18, 20, 22, 24, 26, 28, 30, 32, 34, 36, 38]\n",
      "for i = 3\n",
      "[3, 6, 9, 12, 15, 18, 21, 24, 27, 30, 33, 36, 39, 42, 45, 48, 51, 54, 57]\n",
      "for i = 4\n",
      "[4, 8, 12, 16, 20, 24, 28, 32, 36, 40, 44, 48, 52, 56, 60, 0, 4, 8, 12]\n",
      "for i = 5\n",
      "[5, 10, 15, 20, 25, 30, 35, 40, 45, 50, 55, 60, 1, 6, 11, 16, 21, 26, 31]\n",
      "for i = 6\n",
      "[6, 12, 18, 24, 30, 36, 42, 48, 54, 60, 2, 8, 14, 20, 26, 32, 38, 44, 50]\n",
      "for i = 7\n",
      "[7, 14, 21, 28, 35, 42, 49, 56, 63, 6, 13, 20, 27, 34, 41, 48, 55, 62, 5]\n",
      "for i = 8\n",
      "[8, 16, 24, 32, 40, 48, 56, 0, 8, 16, 24, 32, 40, 48, 56, 0, 8, 16, 24]\n",
      "for i = 9\n",
      "[9, 18, 27, 36, 45, 54, 63, 8, 17, 26, 35, 44, 53, 62, 7, 16, 25, 34, 43]\n",
      "for i = 10\n",
      "[10, 20, 30, 40, 50, 60, 6, 16, 26, 36, 46, 56, 2, 12, 22, 32, 42, 52, 62]\n",
      "for i = 11\n",
      "[11, 22, 33, 44, 55, 2, 13, 24, 35, 46, 57, 4, 15, 26, 37, 48, 59, 6, 17]\n",
      "for i = 12\n",
      "[12, 24, 36, 48, 60, 8, 20, 32, 44, 56, 4, 16, 28, 40, 52, 0, 12, 24, 36]\n",
      "for i = 13\n",
      "[13, 26, 39, 52, 1, 14, 27, 40, 53, 2, 15, 28, 41, 54, 3, 16, 29, 42, 55]\n",
      "for i = 14\n",
      "[14, 28, 42, 56, 6, 20, 34, 48, 62, 12, 26, 40, 54, 4, 18, 32, 46, 60, 10]\n",
      "for i = 15\n",
      "[15, 30, 45, 60, 11, 26, 41, 56, 7, 22, 37, 52, 3, 18, 33, 48, 63, 14, 29]\n",
      "for i = 16\n",
      "[16, 32, 48, 0, 16, 32, 48, 0, 16, 32, 48, 0, 16, 32, 48, 0, 16, 32, 48]\n",
      "for i = 17\n",
      "[17, 34, 51, 4, 21, 38, 55, 8, 25, 42, 59, 12, 29, 46, 63, 16, 33, 50, 3]\n",
      "for i = 18\n",
      "[18, 36, 54, 8, 26, 44, 62, 16, 34, 52, 6, 24, 42, 60, 14, 32, 50, 4, 22]\n",
      "for i = 19\n",
      "[19, 38, 57, 12, 31, 50, 5, 24, 43, 62, 17, 36, 55, 10, 29, 48, 3, 22, 41]\n",
      "for i = 20\n",
      "[20, 40, 60, 16, 36, 56, 12, 32, 52, 8, 28, 48, 4, 24, 44, 0, 20, 40, 60]\n",
      "for i = 21\n",
      "[21, 42, 63, 20, 41, 62, 19, 40, 61, 18, 39, 60, 17, 38, 59, 16, 37, 58, 15]\n",
      "for i = 22\n",
      "[22, 44, 2, 24, 46, 4, 26, 48, 6, 28, 50, 8, 30, 52, 10, 32, 54, 12, 34]\n",
      "for i = 23\n",
      "[23, 46, 5, 28, 51, 10, 33, 56, 15, 38, 61, 20, 43, 2, 25, 48, 7, 30, 53]\n",
      "for i = 24\n",
      "[24, 48, 8, 32, 56, 16, 40, 0, 24, 48, 8, 32, 56, 16, 40, 0, 24, 48, 8]\n",
      "for i = 25\n",
      "[25, 50, 11, 36, 61, 22, 47, 8, 33, 58, 19, 44, 5, 30, 55, 16, 41, 2, 27]\n",
      "for i = 26\n",
      "[26, 52, 14, 40, 2, 28, 54, 16, 42, 4, 30, 56, 18, 44, 6, 32, 58, 20, 46]\n",
      "for i = 27\n",
      "[27, 54, 17, 44, 7, 34, 61, 24, 51, 14, 41, 4, 31, 58, 21, 48, 11, 38, 1]\n",
      "for i = 28\n",
      "[28, 56, 20, 48, 12, 40, 4, 32, 60, 24, 52, 16, 44, 8, 36, 0, 28, 56, 20]\n",
      "for i = 29\n",
      "[29, 58, 23, 52, 17, 46, 11, 40, 5, 34, 63, 28, 57, 22, 51, 16, 45, 10, 39]\n",
      "for i = 30\n",
      "[30, 60, 26, 56, 22, 52, 18, 48, 14, 44, 10, 40, 6, 36, 2, 32, 62, 28, 58]\n",
      "for i = 31\n",
      "[31, 62, 29, 60, 27, 58, 25, 56, 23, 54, 21, 52, 19, 50, 17, 48, 15, 46, 13]\n",
      "for i = 32\n",
      "[32, 0, 32, 0, 32, 0, 32, 0, 32, 0, 32, 0, 32, 0, 32, 0, 32, 0, 32]\n",
      "for i = 33\n",
      "[33, 2, 35, 4, 37, 6, 39, 8, 41, 10, 43, 12, 45, 14, 47, 16, 49, 18, 51]\n",
      "for i = 34\n",
      "[34, 4, 38, 8, 42, 12, 46, 16, 50, 20, 54, 24, 58, 28, 62, 32, 2, 36, 6]\n",
      "for i = 35\n",
      "[35, 6, 41, 12, 47, 18, 53, 24, 59, 30, 1, 36, 7, 42, 13, 48, 19, 54, 25]\n",
      "for i = 36\n",
      "[36, 8, 44, 16, 52, 24, 60, 32, 4, 40, 12, 48, 20, 56, 28, 0, 36, 8, 44]\n",
      "for i = 37\n",
      "[37, 10, 47, 20, 57, 30, 3, 40, 13, 50, 23, 60, 33, 6, 43, 16, 53, 26, 63]\n",
      "for i = 38\n",
      "[38, 12, 50, 24, 62, 36, 10, 48, 22, 60, 34, 8, 46, 20, 58, 32, 6, 44, 18]\n",
      "for i = 39\n",
      "[39, 14, 53, 28, 3, 42, 17, 56, 31, 6, 45, 20, 59, 34, 9, 48, 23, 62, 37]\n",
      "for i = 40\n",
      "[40, 16, 56, 32, 8, 48, 24, 0, 40, 16, 56, 32, 8, 48, 24, 0, 40, 16, 56]\n",
      "for i = 41\n",
      "[41, 18, 59, 36, 13, 54, 31, 8, 49, 26, 3, 44, 21, 62, 39, 16, 57, 34, 11]\n",
      "for i = 42\n",
      "[42, 20, 62, 40, 18, 60, 38, 16, 58, 36, 14, 56, 34, 12, 54, 32, 10, 52, 30]\n",
      "for i = 43\n",
      "[43, 22, 1, 44, 23, 2, 45, 24, 3, 46, 25, 4, 47, 26, 5, 48, 27, 6, 49]\n",
      "for i = 44\n",
      "[44, 24, 4, 48, 28, 8, 52, 32, 12, 56, 36, 16, 60, 40, 20, 0, 44, 24, 4]\n",
      "for i = 45\n",
      "[45, 26, 7, 52, 33, 14, 59, 40, 21, 2, 47, 28, 9, 54, 35, 16, 61, 42, 23]\n",
      "for i = 46\n",
      "[46, 28, 10, 56, 38, 20, 2, 48, 30, 12, 58, 40, 22, 4, 50, 32, 14, 60, 42]\n",
      "for i = 47\n",
      "[47, 30, 13, 60, 43, 26, 9, 56, 39, 22, 5, 52, 35, 18, 1, 48, 31, 14, 61]\n",
      "for i = 48\n",
      "[48, 32, 16, 0, 48, 32, 16, 0, 48, 32, 16, 0, 48, 32, 16, 0, 48, 32, 16]\n",
      "for i = 49\n",
      "[49, 34, 19, 4, 53, 38, 23, 8, 57, 42, 27, 12, 61, 46, 31, 16, 1, 50, 35]\n",
      "for i = 50\n",
      "[50, 36, 22, 8, 58, 44, 30, 16, 2, 52, 38, 24, 10, 60, 46, 32, 18, 4, 54]\n",
      "for i = 51\n",
      "[51, 38, 25, 12, 63, 50, 37, 24, 11, 62, 49, 36, 23, 10, 61, 48, 35, 22, 9]\n",
      "for i = 52\n",
      "[52, 40, 28, 16, 4, 56, 44, 32, 20, 8, 60, 48, 36, 24, 12, 0, 52, 40, 28]\n",
      "for i = 53\n",
      "[53, 42, 31, 20, 9, 62, 51, 40, 29, 18, 7, 60, 49, 38, 27, 16, 5, 58, 47]\n",
      "for i = 54\n",
      "[54, 44, 34, 24, 14, 4, 58, 48, 38, 28, 18, 8, 62, 52, 42, 32, 22, 12, 2]\n",
      "for i = 55\n",
      "[55, 46, 37, 28, 19, 10, 1, 56, 47, 38, 29, 20, 11, 2, 57, 48, 39, 30, 21]\n",
      "for i = 56\n",
      "[56, 48, 40, 32, 24, 16, 8, 0, 56, 48, 40, 32, 24, 16, 8, 0, 56, 48, 40]\n",
      "for i = 57\n",
      "[57, 50, 43, 36, 29, 22, 15, 8, 1, 58, 51, 44, 37, 30, 23, 16, 9, 2, 59]\n",
      "for i = 58\n",
      "[58, 52, 46, 40, 34, 28, 22, 16, 10, 4, 62, 56, 50, 44, 38, 32, 26, 20, 14]\n",
      "for i = 59\n",
      "[59, 54, 49, 44, 39, 34, 29, 24, 19, 14, 9, 4, 63, 58, 53, 48, 43, 38, 33]\n",
      "for i = 60\n",
      "[60, 56, 52, 48, 44, 40, 36, 32, 28, 24, 20, 16, 12, 8, 4, 0, 60, 56, 52]\n",
      "for i = 61\n",
      "[61, 58, 55, 52, 49, 46, 43, 40, 37, 34, 31, 28, 25, 22, 19, 16, 13, 10, 7]\n",
      "for i = 62\n",
      "[62, 60, 58, 56, 54, 52, 50, 48, 46, 44, 42, 40, 38, 36, 34, 32, 30, 28, 26]\n",
      "for i = 63\n",
      "[63, 62, 61, 60, 59, 58, 57, 56, 55, 54, 53, 52, 51, 50, 49, 48, 47, 46, 45]\n",
      "----------------------------------------\n",
      "for GF(2^7)\n",
      "\n",
      "Elements are:[0, 1, 2, 3, 4, 5, 6, 7, 8, 9, 10, 11, 12, 13, 14, 15, 16, 17, 18, 19, 20, 21, 22, 23, 24, 25, 26, 27, 28, 29, 30, 31, 32, 33, 34, 35, 36, 37, 38, 39, 40, 41, 42, 43, 44, 45, 46, 47, 48, 49, 50, 51, 52, 53, 54, 55, 56, 57, 58, 59, 60, 61, 62, 63, 64, 65, 66, 67, 68, 69, 70, 71, 72, 73, 74, 75, 76, 77, 78, 79, 80, 81, 82, 83, 84, 85, 86, 87, 88, 89, 90, 91, 92, 93, 94, 95, 96, 97, 98, 99, 100, 101, 102, 103, 104, 105, 106, 107, 108, 109, 110, 111, 112, 113, 114, 115, 116, 117, 118, 119, 120, 121, 122, 123, 124, 125, 126, 127]\n",
      "----------------------------------------\n",
      "for i = 1\n",
      "[1, 2, 3, 4, 5, 6, 7, 8, 9, 10, 11, 12, 13, 14, 15, 16, 17, 18, 19]\n",
      "for i = 2\n",
      "[2, 4, 6, 8, 10, 12, 14, 16, 18, 20, 22, 24, 26, 28, 30, 32, 34, 36, 38]\n",
      "for i = 3\n",
      "[3, 6, 9, 12, 15, 18, 21, 24, 27, 30, 33, 36, 39, 42, 45, 48, 51, 54, 57]\n",
      "for i = 4\n",
      "[4, 8, 12, 16, 20, 24, 28, 32, 36, 40, 44, 48, 52, 56, 60, 64, 68, 72, 76]\n",
      "for i = 5\n",
      "[5, 10, 15, 20, 25, 30, 35, 40, 45, 50, 55, 60, 65, 70, 75, 80, 85, 90, 95]\n",
      "for i = 6\n",
      "[6, 12, 18, 24, 30, 36, 42, 48, 54, 60, 66, 72, 78, 84, 90, 96, 102, 108, 114]\n",
      "for i = 7\n",
      "[7, 14, 21, 28, 35, 42, 49, 56, 63, 70, 77, 84, 91, 98, 105, 112, 119, 126, 5]\n",
      "for i = 8\n",
      "[8, 16, 24, 32, 40, 48, 56, 64, 72, 80, 88, 96, 104, 112, 120, 0, 8, 16, 24]\n",
      "for i = 9\n",
      "[9, 18, 27, 36, 45, 54, 63, 72, 81, 90, 99, 108, 117, 126, 7, 16, 25, 34, 43]\n",
      "for i = 10\n",
      "[10, 20, 30, 40, 50, 60, 70, 80, 90, 100, 110, 120, 2, 12, 22, 32, 42, 52, 62]\n",
      "for i = 11\n",
      "[11, 22, 33, 44, 55, 66, 77, 88, 99, 110, 121, 4, 15, 26, 37, 48, 59, 70, 81]\n",
      "for i = 12\n",
      "[12, 24, 36, 48, 60, 72, 84, 96, 108, 120, 4, 16, 28, 40, 52, 64, 76, 88, 100]\n",
      "for i = 13\n",
      "[13, 26, 39, 52, 65, 78, 91, 104, 117, 2, 15, 28, 41, 54, 67, 80, 93, 106, 119]\n",
      "for i = 14\n",
      "[14, 28, 42, 56, 70, 84, 98, 112, 126, 12, 26, 40, 54, 68, 82, 96, 110, 124, 10]\n",
      "for i = 15\n",
      "[15, 30, 45, 60, 75, 90, 105, 120, 7, 22, 37, 52, 67, 82, 97, 112, 127, 14, 29]\n",
      "for i = 16\n",
      "[16, 32, 48, 64, 80, 96, 112, 0, 16, 32, 48, 64, 80, 96, 112, 0, 16, 32, 48]\n",
      "for i = 17\n",
      "[17, 34, 51, 68, 85, 102, 119, 8, 25, 42, 59, 76, 93, 110, 127, 16, 33, 50, 67]\n",
      "for i = 18\n",
      "[18, 36, 54, 72, 90, 108, 126, 16, 34, 52, 70, 88, 106, 124, 14, 32, 50, 68, 86]\n",
      "for i = 19\n",
      "[19, 38, 57, 76, 95, 114, 5, 24, 43, 62, 81, 100, 119, 10, 29, 48, 67, 86, 105]\n",
      "for i = 20\n",
      "[20, 40, 60, 80, 100, 120, 12, 32, 52, 72, 92, 112, 4, 24, 44, 64, 84, 104, 124]\n",
      "for i = 21\n",
      "[21, 42, 63, 84, 105, 126, 19, 40, 61, 82, 103, 124, 17, 38, 59, 80, 101, 122, 15]\n",
      "for i = 22\n",
      "[22, 44, 66, 88, 110, 4, 26, 48, 70, 92, 114, 8, 30, 52, 74, 96, 118, 12, 34]\n",
      "for i = 23\n",
      "[23, 46, 69, 92, 115, 10, 33, 56, 79, 102, 125, 20, 43, 66, 89, 112, 7, 30, 53]\n",
      "for i = 24\n",
      "[24, 48, 72, 96, 120, 16, 40, 64, 88, 112, 8, 32, 56, 80, 104, 0, 24, 48, 72]\n",
      "for i = 25\n",
      "[25, 50, 75, 100, 125, 22, 47, 72, 97, 122, 19, 44, 69, 94, 119, 16, 41, 66, 91]\n",
      "for i = 26\n",
      "[26, 52, 78, 104, 2, 28, 54, 80, 106, 4, 30, 56, 82, 108, 6, 32, 58, 84, 110]\n",
      "for i = 27\n",
      "[27, 54, 81, 108, 7, 34, 61, 88, 115, 14, 41, 68, 95, 122, 21, 48, 75, 102, 1]\n",
      "for i = 28\n",
      "[28, 56, 84, 112, 12, 40, 68, 96, 124, 24, 52, 80, 108, 8, 36, 64, 92, 120, 20]\n",
      "for i = 29\n",
      "[29, 58, 87, 116, 17, 46, 75, 104, 5, 34, 63, 92, 121, 22, 51, 80, 109, 10, 39]\n",
      "for i = 30\n",
      "[30, 60, 90, 120, 22, 52, 82, 112, 14, 44, 74, 104, 6, 36, 66, 96, 126, 28, 58]\n",
      "for i = 31\n",
      "[31, 62, 93, 124, 27, 58, 89, 120, 23, 54, 85, 116, 19, 50, 81, 112, 15, 46, 77]\n",
      "for i = 32\n",
      "[32, 64, 96, 0, 32, 64, 96, 0, 32, 64, 96, 0, 32, 64, 96, 0, 32, 64, 96]\n",
      "for i = 33\n",
      "[33, 66, 99, 4, 37, 70, 103, 8, 41, 74, 107, 12, 45, 78, 111, 16, 49, 82, 115]\n",
      "for i = 34\n",
      "[34, 68, 102, 8, 42, 76, 110, 16, 50, 84, 118, 24, 58, 92, 126, 32, 66, 100, 6]\n",
      "for i = 35\n",
      "[35, 70, 105, 12, 47, 82, 117, 24, 59, 94, 1, 36, 71, 106, 13, 48, 83, 118, 25]\n",
      "for i = 36\n",
      "[36, 72, 108, 16, 52, 88, 124, 32, 68, 104, 12, 48, 84, 120, 28, 64, 100, 8, 44]\n",
      "for i = 37\n",
      "[37, 74, 111, 20, 57, 94, 3, 40, 77, 114, 23, 60, 97, 6, 43, 80, 117, 26, 63]\n",
      "for i = 38\n",
      "[38, 76, 114, 24, 62, 100, 10, 48, 86, 124, 34, 72, 110, 20, 58, 96, 6, 44, 82]\n",
      "for i = 39\n",
      "[39, 78, 117, 28, 67, 106, 17, 56, 95, 6, 45, 84, 123, 34, 73, 112, 23, 62, 101]\n",
      "for i = 40\n",
      "[40, 80, 120, 32, 72, 112, 24, 64, 104, 16, 56, 96, 8, 48, 88, 0, 40, 80, 120]\n",
      "for i = 41\n",
      "[41, 82, 123, 36, 77, 118, 31, 72, 113, 26, 67, 108, 21, 62, 103, 16, 57, 98, 11]\n",
      "for i = 42\n",
      "[42, 84, 126, 40, 82, 124, 38, 80, 122, 36, 78, 120, 34, 76, 118, 32, 74, 116, 30]\n",
      "for i = 43\n",
      "[43, 86, 1, 44, 87, 2, 45, 88, 3, 46, 89, 4, 47, 90, 5, 48, 91, 6, 49]\n",
      "for i = 44\n",
      "[44, 88, 4, 48, 92, 8, 52, 96, 12, 56, 100, 16, 60, 104, 20, 64, 108, 24, 68]\n",
      "for i = 45\n",
      "[45, 90, 7, 52, 97, 14, 59, 104, 21, 66, 111, 28, 73, 118, 35, 80, 125, 42, 87]\n",
      "for i = 46\n",
      "[46, 92, 10, 56, 102, 20, 66, 112, 30, 76, 122, 40, 86, 4, 50, 96, 14, 60, 106]\n",
      "for i = 47\n",
      "[47, 94, 13, 60, 107, 26, 73, 120, 39, 86, 5, 52, 99, 18, 65, 112, 31, 78, 125]\n",
      "for i = 48\n",
      "[48, 96, 16, 64, 112, 32, 80, 0, 48, 96, 16, 64, 112, 32, 80, 0, 48, 96, 16]\n",
      "for i = 49\n",
      "[49, 98, 19, 68, 117, 38, 87, 8, 57, 106, 27, 76, 125, 46, 95, 16, 65, 114, 35]\n",
      "for i = 50\n",
      "[50, 100, 22, 72, 122, 44, 94, 16, 66, 116, 38, 88, 10, 60, 110, 32, 82, 4, 54]\n",
      "for i = 51\n",
      "[51, 102, 25, 76, 127, 50, 101, 24, 75, 126, 49, 100, 23, 74, 125, 48, 99, 22, 73]\n",
      "for i = 52\n",
      "[52, 104, 28, 80, 4, 56, 108, 32, 84, 8, 60, 112, 36, 88, 12, 64, 116, 40, 92]\n",
      "for i = 53\n",
      "[53, 106, 31, 84, 9, 62, 115, 40, 93, 18, 71, 124, 49, 102, 27, 80, 5, 58, 111]\n",
      "for i = 54\n",
      "[54, 108, 34, 88, 14, 68, 122, 48, 102, 28, 82, 8, 62, 116, 42, 96, 22, 76, 2]\n",
      "for i = 55\n",
      "[55, 110, 37, 92, 19, 74, 1, 56, 111, 38, 93, 20, 75, 2, 57, 112, 39, 94, 21]\n",
      "for i = 56\n",
      "[56, 112, 40, 96, 24, 80, 8, 64, 120, 48, 104, 32, 88, 16, 72, 0, 56, 112, 40]\n",
      "for i = 57\n",
      "[57, 114, 43, 100, 29, 86, 15, 72, 1, 58, 115, 44, 101, 30, 87, 16, 73, 2, 59]\n",
      "for i = 58\n",
      "[58, 116, 46, 104, 34, 92, 22, 80, 10, 68, 126, 56, 114, 44, 102, 32, 90, 20, 78]\n",
      "for i = 59\n",
      "[59, 118, 49, 108, 39, 98, 29, 88, 19, 78, 9, 68, 127, 58, 117, 48, 107, 38, 97]\n",
      "for i = 60\n",
      "[60, 120, 52, 112, 44, 104, 36, 96, 28, 88, 20, 80, 12, 72, 4, 64, 124, 56, 116]\n",
      "for i = 61\n",
      "[61, 122, 55, 116, 49, 110, 43, 104, 37, 98, 31, 92, 25, 86, 19, 80, 13, 74, 7]\n",
      "for i = 62\n",
      "[62, 124, 58, 120, 54, 116, 50, 112, 46, 108, 42, 104, 38, 100, 34, 96, 30, 92, 26]\n",
      "for i = 63\n",
      "[63, 126, 61, 124, 59, 122, 57, 120, 55, 118, 53, 116, 51, 114, 49, 112, 47, 110, 45]\n",
      "for i = 64\n",
      "[64, 0, 64, 0, 64, 0, 64, 0, 64, 0, 64, 0, 64, 0, 64, 0, 64, 0, 64]\n",
      "for i = 65\n",
      "[65, 2, 67, 4, 69, 6, 71, 8, 73, 10, 75, 12, 77, 14, 79, 16, 81, 18, 83]\n",
      "for i = 66\n",
      "[66, 4, 70, 8, 74, 12, 78, 16, 82, 20, 86, 24, 90, 28, 94, 32, 98, 36, 102]\n",
      "for i = 67\n",
      "[67, 6, 73, 12, 79, 18, 85, 24, 91, 30, 97, 36, 103, 42, 109, 48, 115, 54, 121]\n",
      "for i = 68\n",
      "[68, 8, 76, 16, 84, 24, 92, 32, 100, 40, 108, 48, 116, 56, 124, 64, 4, 72, 12]\n",
      "for i = 69\n",
      "[69, 10, 79, 20, 89, 30, 99, 40, 109, 50, 119, 60, 1, 70, 11, 80, 21, 90, 31]\n",
      "for i = 70\n",
      "[70, 12, 82, 24, 94, 36, 106, 48, 118, 60, 2, 72, 14, 84, 26, 96, 38, 108, 50]\n",
      "for i = 71\n",
      "[71, 14, 85, 28, 99, 42, 113, 56, 127, 70, 13, 84, 27, 98, 41, 112, 55, 126, 69]\n",
      "for i = 72\n",
      "[72, 16, 88, 32, 104, 48, 120, 64, 8, 80, 24, 96, 40, 112, 56, 0, 72, 16, 88]\n",
      "for i = 73\n",
      "[73, 18, 91, 36, 109, 54, 127, 72, 17, 90, 35, 108, 53, 126, 71, 16, 89, 34, 107]\n",
      "for i = 74\n",
      "[74, 20, 94, 40, 114, 60, 6, 80, 26, 100, 46, 120, 66, 12, 86, 32, 106, 52, 126]\n",
      "for i = 75\n",
      "[75, 22, 97, 44, 119, 66, 13, 88, 35, 110, 57, 4, 79, 26, 101, 48, 123, 70, 17]\n",
      "for i = 76\n",
      "[76, 24, 100, 48, 124, 72, 20, 96, 44, 120, 68, 16, 92, 40, 116, 64, 12, 88, 36]\n",
      "for i = 77\n",
      "[77, 26, 103, 52, 1, 78, 27, 104, 53, 2, 79, 28, 105, 54, 3, 80, 29, 106, 55]\n",
      "for i = 78\n",
      "[78, 28, 106, 56, 6, 84, 34, 112, 62, 12, 90, 40, 118, 68, 18, 96, 46, 124, 74]\n",
      "for i = 79\n",
      "[79, 30, 109, 60, 11, 90, 41, 120, 71, 22, 101, 52, 3, 82, 33, 112, 63, 14, 93]\n",
      "for i = 80\n",
      "[80, 32, 112, 64, 16, 96, 48, 0, 80, 32, 112, 64, 16, 96, 48, 0, 80, 32, 112]\n",
      "for i = 81\n",
      "[81, 34, 115, 68, 21, 102, 55, 8, 89, 42, 123, 76, 29, 110, 63, 16, 97, 50, 3]\n",
      "for i = 82\n",
      "[82, 36, 118, 72, 26, 108, 62, 16, 98, 52, 6, 88, 42, 124, 78, 32, 114, 68, 22]\n",
      "for i = 83\n",
      "[83, 38, 121, 76, 31, 114, 69, 24, 107, 62, 17, 100, 55, 10, 93, 48, 3, 86, 41]\n",
      "for i = 84\n",
      "[84, 40, 124, 80, 36, 120, 76, 32, 116, 72, 28, 112, 68, 24, 108, 64, 20, 104, 60]\n",
      "for i = 85\n",
      "[85, 42, 127, 84, 41, 126, 83, 40, 125, 82, 39, 124, 81, 38, 123, 80, 37, 122, 79]\n",
      "for i = 86\n",
      "[86, 44, 2, 88, 46, 4, 90, 48, 6, 92, 50, 8, 94, 52, 10, 96, 54, 12, 98]\n",
      "for i = 87\n",
      "[87, 46, 5, 92, 51, 10, 97, 56, 15, 102, 61, 20, 107, 66, 25, 112, 71, 30, 117]\n",
      "for i = 88\n",
      "[88, 48, 8, 96, 56, 16, 104, 64, 24, 112, 72, 32, 120, 80, 40, 0, 88, 48, 8]\n",
      "for i = 89\n",
      "[89, 50, 11, 100, 61, 22, 111, 72, 33, 122, 83, 44, 5, 94, 55, 16, 105, 66, 27]\n",
      "for i = 90\n",
      "[90, 52, 14, 104, 66, 28, 118, 80, 42, 4, 94, 56, 18, 108, 70, 32, 122, 84, 46]\n",
      "for i = 91\n",
      "[91, 54, 17, 108, 71, 34, 125, 88, 51, 14, 105, 68, 31, 122, 85, 48, 11, 102, 65]\n",
      "for i = 92\n",
      "[92, 56, 20, 112, 76, 40, 4, 96, 60, 24, 116, 80, 44, 8, 100, 64, 28, 120, 84]\n",
      "for i = 93\n",
      "[93, 58, 23, 116, 81, 46, 11, 104, 69, 34, 127, 92, 57, 22, 115, 80, 45, 10, 103]\n",
      "for i = 94\n",
      "[94, 60, 26, 120, 86, 52, 18, 112, 78, 44, 10, 104, 70, 36, 2, 96, 62, 28, 122]\n",
      "for i = 95\n",
      "[95, 62, 29, 124, 91, 58, 25, 120, 87, 54, 21, 116, 83, 50, 17, 112, 79, 46, 13]\n",
      "for i = 96\n",
      "[96, 64, 32, 0, 96, 64, 32, 0, 96, 64, 32, 0, 96, 64, 32, 0, 96, 64, 32]\n",
      "for i = 97\n",
      "[97, 66, 35, 4, 101, 70, 39, 8, 105, 74, 43, 12, 109, 78, 47, 16, 113, 82, 51]\n",
      "for i = 98\n",
      "[98, 68, 38, 8, 106, 76, 46, 16, 114, 84, 54, 24, 122, 92, 62, 32, 2, 100, 70]\n",
      "for i = 99\n",
      "[99, 70, 41, 12, 111, 82, 53, 24, 123, 94, 65, 36, 7, 106, 77, 48, 19, 118, 89]\n",
      "for i = 100\n",
      "[100, 72, 44, 16, 116, 88, 60, 32, 4, 104, 76, 48, 20, 120, 92, 64, 36, 8, 108]\n",
      "for i = 101\n",
      "[101, 74, 47, 20, 121, 94, 67, 40, 13, 114, 87, 60, 33, 6, 107, 80, 53, 26, 127]\n",
      "for i = 102\n",
      "[102, 76, 50, 24, 126, 100, 74, 48, 22, 124, 98, 72, 46, 20, 122, 96, 70, 44, 18]\n",
      "for i = 103\n",
      "[103, 78, 53, 28, 3, 106, 81, 56, 31, 6, 109, 84, 59, 34, 9, 112, 87, 62, 37]\n",
      "for i = 104\n",
      "[104, 80, 56, 32, 8, 112, 88, 64, 40, 16, 120, 96, 72, 48, 24, 0, 104, 80, 56]\n",
      "for i = 105\n",
      "[105, 82, 59, 36, 13, 118, 95, 72, 49, 26, 3, 108, 85, 62, 39, 16, 121, 98, 75]\n",
      "for i = 106\n",
      "[106, 84, 62, 40, 18, 124, 102, 80, 58, 36, 14, 120, 98, 76, 54, 32, 10, 116, 94]\n",
      "for i = 107\n",
      "[107, 86, 65, 44, 23, 2, 109, 88, 67, 46, 25, 4, 111, 90, 69, 48, 27, 6, 113]\n",
      "for i = 108\n",
      "[108, 88, 68, 48, 28, 8, 116, 96, 76, 56, 36, 16, 124, 104, 84, 64, 44, 24, 4]\n",
      "for i = 109\n",
      "[109, 90, 71, 52, 33, 14, 123, 104, 85, 66, 47, 28, 9, 118, 99, 80, 61, 42, 23]\n",
      "for i = 110\n",
      "[110, 92, 74, 56, 38, 20, 2, 112, 94, 76, 58, 40, 22, 4, 114, 96, 78, 60, 42]\n",
      "for i = 111\n",
      "[111, 94, 77, 60, 43, 26, 9, 120, 103, 86, 69, 52, 35, 18, 1, 112, 95, 78, 61]\n",
      "for i = 112\n",
      "[112, 96, 80, 64, 48, 32, 16, 0, 112, 96, 80, 64, 48, 32, 16, 0, 112, 96, 80]\n",
      "for i = 113\n",
      "[113, 98, 83, 68, 53, 38, 23, 8, 121, 106, 91, 76, 61, 46, 31, 16, 1, 114, 99]\n",
      "for i = 114\n",
      "[114, 100, 86, 72, 58, 44, 30, 16, 2, 116, 102, 88, 74, 60, 46, 32, 18, 4, 118]\n",
      "for i = 115\n",
      "[115, 102, 89, 76, 63, 50, 37, 24, 11, 126, 113, 100, 87, 74, 61, 48, 35, 22, 9]\n",
      "for i = 116\n",
      "[116, 104, 92, 80, 68, 56, 44, 32, 20, 8, 124, 112, 100, 88, 76, 64, 52, 40, 28]\n",
      "for i = 117\n",
      "[117, 106, 95, 84, 73, 62, 51, 40, 29, 18, 7, 124, 113, 102, 91, 80, 69, 58, 47]\n",
      "for i = 118\n",
      "[118, 108, 98, 88, 78, 68, 58, 48, 38, 28, 18, 8, 126, 116, 106, 96, 86, 76, 66]\n",
      "for i = 119\n",
      "[119, 110, 101, 92, 83, 74, 65, 56, 47, 38, 29, 20, 11, 2, 121, 112, 103, 94, 85]\n",
      "for i = 120\n",
      "[120, 112, 104, 96, 88, 80, 72, 64, 56, 48, 40, 32, 24, 16, 8, 0, 120, 112, 104]\n",
      "for i = 121\n",
      "[121, 114, 107, 100, 93, 86, 79, 72, 65, 58, 51, 44, 37, 30, 23, 16, 9, 2, 123]\n",
      "for i = 122\n",
      "[122, 116, 110, 104, 98, 92, 86, 80, 74, 68, 62, 56, 50, 44, 38, 32, 26, 20, 14]\n",
      "for i = 123\n",
      "[123, 118, 113, 108, 103, 98, 93, 88, 83, 78, 73, 68, 63, 58, 53, 48, 43, 38, 33]\n",
      "for i = 124\n",
      "[124, 120, 116, 112, 108, 104, 100, 96, 92, 88, 84, 80, 76, 72, 68, 64, 60, 56, 52]\n",
      "for i = 125\n",
      "[125, 122, 119, 116, 113, 110, 107, 104, 101, 98, 95, 92, 89, 86, 83, 80, 77, 74, 71]\n",
      "for i = 126\n",
      "[126, 124, 122, 120, 118, 116, 114, 112, 110, 108, 106, 104, 102, 100, 98, 96, 94, 92, 90]\n",
      "for i = 127\n",
      "[127, 126, 125, 124, 123, 122, 121, 120, 119, 118, 117, 116, 115, 114, 113, 112, 111, 110, 109]\n"
     ]
    }
   ],
   "source": [
    "#range of n in GF(2^n): 1<=n<=8 \n",
    "start,end = 1,8\n",
    "cyclic_subgroup(start,end)"
   ]
  },
  {
   "cell_type": "markdown",
   "metadata": {
    "id": "RDpcH22ln12u"
   },
   "source": [
    "Above Program check if the element of a field is a primitive element and return the list of generators from the field $F_{2^n}$ where 1<=n<=8. The program also generates the cyclic subgroup by using the power of elements.\n",
    "\n",
    "The program computes order of element and no of totatives from Euler's totient function $φ(2^n)$ which is equal to 2^n-1.\n",
    "\n",
    "If the order of element is equal to $φ(2^n)$ then the element is primitive element.\n",
    "\n",
    "Based on this principle above program generates the primitive elements from finite field $F_{2^n}$ where 1<=n<=8.\n"
   ]
  },
  {
   "cell_type": "markdown",
   "metadata": {
    "id": "PoCzqNc569jV"
   },
   "source": [
    "##Q.N 7"
   ]
  },
  {
   "cell_type": "markdown",
   "metadata": {
    "id": "woFltqNyePpj"
   },
   "source": [
    "##Get Prime Factor of a Number n"
   ]
  },
  {
   "cell_type": "code",
   "execution_count": 109,
   "metadata": {
    "id": "HdAAlsOc7HVX"
   },
   "outputs": [],
   "source": [
    "#get prime factors of a number f\n",
    "import math\n",
    "def get_Prime_Factors(f):\n",
    "  # n is given number\n",
    "\n",
    "  # f = n! --> is factorial of n\n",
    "  # f = compute_fact(n)\n",
    "\n",
    "  #pf is a list of prime factors of f\n",
    "  pf = []\n",
    "\n",
    "  # Print the number of two's that divide f\n",
    "  while f % 2 == 0:\n",
    "    # print(2)\n",
    "    pf.append(2)\n",
    "    f = f / 2\n",
    "      \n",
    "  # if f is odd, skip by 2 ( k = k + 2)\n",
    "  for k in range(3,int(math.sqrt(f))+1,2):\n",
    "\n",
    "    # while i divides f , print k and progress\n",
    "    while f % k == 0:\n",
    "      # print(k)\n",
    "      pf.append(k)\n",
    "      f = f / k         \n",
    "  #if f is a prime number greater than 2\n",
    "  if f > 2:\n",
    "    pf.append(int(f))\n",
    "  return pf"
   ]
  },
  {
   "cell_type": "code",
   "execution_count": 110,
   "metadata": {
    "colab": {
     "base_uri": "https://localhost:8080/",
     "height": 0
    },
    "id": "bBS-syA4OdaZ",
    "outputId": "730020a4-4e1e-4c38-a2cf-a57f76d025af"
   },
   "outputs": [
    {
     "data": {
      "text/plain": [
       "[73, 137]"
      ]
     },
     "execution_count": 110,
     "metadata": {},
     "output_type": "execute_result"
    }
   ],
   "source": [
    "# test code\n",
    "#get prime factors of n\n",
    "n = 10001\n",
    "get_Prime_Factors(n)"
   ]
  },
  {
   "cell_type": "markdown",
   "metadata": {
    "id": "j1PAuovZebai"
   },
   "source": [
    "##Get Prime numbers less then or equal to a number n"
   ]
  },
  {
   "cell_type": "code",
   "execution_count": 111,
   "metadata": {
    "id": "wapnYaJEoY8P"
   },
   "outputs": [],
   "source": [
    "def Sieve(f):\n",
    "  primes = []\n",
    "  remain = list(range(2,f+1))\n",
    "  while remain:\n",
    "    primes.append(remain[0])\n",
    "    remain = [remain[i] for i in range(1,len(remain)) if 0 != remain[i]%remain[0]]\n",
    "  return primes[1:]"
   ]
  },
  {
   "cell_type": "code",
   "execution_count": 112,
   "metadata": {
    "id": "f7wNhdN0obRJ"
   },
   "outputs": [],
   "source": [
    "#list of prime numbers <=n except 2\n",
    "# n = 10\n",
    "# all_prime = Sieve(n)\n",
    "# all_prime[1:]"
   ]
  },
  {
   "cell_type": "markdown",
   "metadata": {
    "id": "W-hoOAXyQQEs"
   },
   "source": [
    "##check if a number is a prime"
   ]
  },
  {
   "cell_type": "code",
   "execution_count": 113,
   "metadata": {
    "id": "x5tptSOcQNmz"
   },
   "outputs": [],
   "source": [
    "def isPrime(n):\n",
    "    return all(n % i for i in range(2, n))"
   ]
  },
  {
   "cell_type": "code",
   "execution_count": 114,
   "metadata": {
    "colab": {
     "base_uri": "https://localhost:8080/",
     "height": 0
    },
    "id": "r7-QQZt35FhX",
    "outputId": "a30dfdcb-de0c-441d-dd24-13e55d9f4652"
   },
   "outputs": [
    {
     "data": {
      "text/plain": [
       "False"
      ]
     },
     "execution_count": 114,
     "metadata": {},
     "output_type": "execute_result"
    }
   ],
   "source": [
    "#test code\n",
    "n = 777\n",
    "isPrime(n)"
   ]
  },
  {
   "cell_type": "markdown",
   "metadata": {
    "id": "UAczXCjeiJxB"
   },
   "source": [
    "##Calculate Legendre Symbol\n",
    "The function returns 0 if a is a multiple of p, 1 if a has a square root mod p, and -1 otherwise."
   ]
  },
  {
   "cell_type": "code",
   "execution_count": 115,
   "metadata": {
    "id": "1eThGjQvq7CW"
   },
   "outputs": [],
   "source": [
    "# calculate Legendre Symbol\n",
    "# a is positive integer\n",
    "# p is an odd prime\n",
    "def Legendre(a, p):\n",
    "    if a >= p or a < 0:\n",
    "        return Legendre(a % p, p)\n",
    "    elif a == 0 or a == 1:\n",
    "        return a\n",
    "    elif a == 2:\n",
    "        if p % 8 == 1 or p % 8 == 7:\n",
    "            return 1\n",
    "        else:\n",
    "            return -1\n",
    "    elif a == p - 1:\n",
    "        if p % 4 == 1:\n",
    "            return 1\n",
    "        else:\n",
    "            return -1\n",
    "    elif not isPrime(a):\n",
    "        factors = get_Prime_Factors(a)\n",
    "        product = 1\n",
    "        for pi in factors:\n",
    "            product *= Legendre(pi, p)\n",
    "        return product\n",
    "    else:\n",
    "        if ((p - 1) / 2) % 2 == 0 or ((a - 1) / 2) % 2 == 0:\n",
    "            return Legendre(p, a)\n",
    "        else:\n",
    "            return (-1) * Legendre(p, a)"
   ]
  },
  {
   "cell_type": "code",
   "execution_count": 116,
   "metadata": {
    "colab": {
     "base_uri": "https://localhost:8080/",
     "height": 0
    },
    "id": "oTgdmmnmbdb5",
    "outputId": "5f1b53d2-c4ee-460f-af10-1809fb1997a4"
   },
   "outputs": [
    {
     "data": {
      "text/plain": [
       "-1"
      ]
     },
     "execution_count": 116,
     "metadata": {},
     "output_type": "execute_result"
    }
   ],
   "source": [
    "# test code\n",
    "a = 311 # positive integer\n",
    "p = 653 # odd Prime\n",
    "Legendre(a, p)"
   ]
  },
  {
   "cell_type": "code",
   "execution_count": 117,
   "metadata": {
    "colab": {
     "base_uri": "https://localhost:8080/",
     "height": 0
    },
    "id": "m9RV1jUtrAW_",
    "outputId": "f1203722-30a0-44a2-d3c9-364fdc939bd3"
   },
   "outputs": [
    {
     "name": "stdout",
     "output_type": "stream",
     "text": [
      "p\\a[' 0 ', ' 1 ', ' 2 ', ' 3 ', ' 4 ', ' 5 ', ' 6 ', ' 7 ', ' 8 ', ' 9 ']\n",
      "3 [1, -1, 0, 1, -1, 0, 1, -1, 0, 1, -1, 0, 1, -1, 0, 1, -1, 0, 1]\n",
      "5 [1, -1, -1, 1, 0, 1, -1, -1, 1, 0, 1, -1, -1, 1, 0, 1, -1, -1, 1]\n",
      "7 [1, 1, -1, 1, -1, -1, 0, 1, 1, -1, 1, -1, -1, 0, 1, 1, -1, 1, -1]\n",
      "11 [1, -1, 1, 1, 1, -1, -1, -1, 1, -1, 0, 1, -1, 1, 1, 1, -1, -1, -1]\n",
      "13 [1, -1, 1, 1, -1, -1, -1, -1, 1, 1, -1, 1, 0, 1, -1, 1, 1, -1, -1]\n",
      "17 [1, 1, -1, 1, -1, -1, -1, 1, 1, -1, -1, -1, 1, -1, 1, 1, 0, 1, 1]\n",
      "19 [1, -1, -1, 1, 1, 1, 1, -1, 1, -1, 1, -1, -1, -1, -1, 1, 1, -1, 0]\n"
     ]
    }
   ],
   "source": [
    "#testing Legendre symbol for 20 legal inputs\n",
    "row = []\n",
    "n = 20\n",
    "odd_primes = Sieve(n)\n",
    "#print a in row\n",
    "for i in range(10):\n",
    "  row.append(\" \" +str(i)+ \" \")\n",
    "print(\"p\\\\a\" + str(row))\n",
    "# print symbols\n",
    "\n",
    "# for i in range(len(odd_primes)):\n",
    "for p in odd_primes:\n",
    "  l = []\n",
    "  for a in range(1,n):\n",
    "  # print(\"For a = \",a)\n",
    "    # print(calculateLegendre(a, p))\n",
    "    ls = Legendre(a, p)\n",
    "    l.append(ls)\n",
    "    # for i in odd_primes:\n",
    "  print(p,l)\n"
   ]
  },
  {
   "cell_type": "markdown",
   "metadata": {
    "id": "XB93iVKYWqPX"
   },
   "source": [
    "Above function calculate legendre symbol for any legal (a,p) where a is any positive integer and p is an odd Prime. The function returns 0 if a is a multiple of p, 1 if a has a square root mod p, and -1 otherwise.\n"
   ]
  },
  {
   "cell_type": "markdown",
   "metadata": {
    "id": "jjdEZFnsb6X6"
   },
   "source": [
    "##Calculate Jacobi Symbol\n",
    "The Jacobi symbol is a generalization of the Legendre symbol and uses the same notation. Unlike in legendre symbol it does not require p to be prime and only requires that p is odd.\n",
    "\n",
    "So in Jacobi symbol(a,n), a represent positive integer and n represents positive odd number.\n",
    "\n",
    "So, legendre symbol is an special case of the jacobi symbol.\n",
    "if an odd number n comes to be the Prime number, jacobi symbol and Legendre symbols gices the same notation."
   ]
  },
  {
   "cell_type": "code",
   "execution_count": 118,
   "metadata": {
    "id": "pI8NkThOXrqB"
   },
   "outputs": [],
   "source": [
    "#Jacobi\n",
    "#a is any positive integer\n",
    "#n is odd number\n",
    "def jacobi(a, n):\n",
    "  if(((n > a) and (a>0))and(n%2 == 1)):\n",
    "    # assert(n > a > 0 and n%2 == 1)\n",
    "    t = 1\n",
    "    while a != 0:\n",
    "        while a % 2 == 0:\n",
    "            a /= 2\n",
    "            r = n % 8\n",
    "            if r == 3 or r == 5:\n",
    "                t = -t\n",
    "        a, n = n, a\n",
    "        if a % 4 == n % 4 == 3:\n",
    "            t = -t\n",
    "        a %= n\n",
    "    if n == 1:\n",
    "        return t\n",
    "    else:\n",
    "        return 0\n",
    "  # else:\n",
    "  #   return \"\"\n"
   ]
  },
  {
   "cell_type": "code",
   "execution_count": 119,
   "metadata": {
    "id": "00S30B3imXOH"
   },
   "outputs": [],
   "source": [
    "#get odd numbers\n",
    "def odd(n):\n",
    "  o = []\n",
    "  for k in range(1,n):\n",
    "    if k%2 == 1:\n",
    "      o.append(k)\n",
    "  return o"
   ]
  },
  {
   "cell_type": "markdown",
   "metadata": {
    "id": "3bFlLn3Snu4K"
   },
   "source": [
    "Above function returns list of odd numbers upto n"
   ]
  },
  {
   "cell_type": "code",
   "execution_count": 120,
   "metadata": {
    "colab": {
     "base_uri": "https://localhost:8080/",
     "height": 0
    },
    "id": "HDye2F_Dnb-a",
    "outputId": "3ff153e8-0636-4607-f828-a4e7c80210bd"
   },
   "outputs": [
    {
     "data": {
      "text/plain": [
       "[1, 3, 5, 7, 9]"
      ]
     },
     "execution_count": 120,
     "metadata": {},
     "output_type": "execute_result"
    }
   ],
   "source": [
    "#generate odd number upto n\n",
    "n = 10\n",
    "odd(10)"
   ]
  },
  {
   "cell_type": "code",
   "execution_count": 121,
   "metadata": {
    "id": "ijHorUQen8h0"
   },
   "outputs": [],
   "source": [
    "#get odd prime numbers upto n"
   ]
  },
  {
   "cell_type": "code",
   "execution_count": 122,
   "metadata": {
    "colab": {
     "base_uri": "https://localhost:8080/",
     "height": 0
    },
    "id": "XJ8rQPYAl4ac",
    "outputId": "32213cca-11b8-414e-f4dc-41e30e3e1a0e"
   },
   "outputs": [
    {
     "name": "stdout",
     "output_type": "stream",
     "text": [
      "p\\a[' 0 ', ' 1 ', ' 2 ', ' 3 ', ' 4 ', ' 5 ', ' 6 ', ' 7 ', ' 8 ', ' 9 ']\n",
      "1 [None, None, None, None, None, None, None, None, None, None]\n",
      "3 [None, 1, -1, None, None, None, None, None, None, None]\n",
      "5 [None, 1, -1, -1, 1, None, None, None, None, None]\n",
      "7 [None, 1, 1, -1, 1, -1, -1, None, None, None]\n",
      "9 [None, 1, 1, 0, 1, 1, 0, 1, 1, None]\n"
     ]
    }
   ],
   "source": [
    "#Testing Jacobi symbol for 20 legal inputs\n",
    "row = []\n",
    "n = 20\n",
    "odds = odd(10)\n",
    "#print a in row\n",
    "for i in range(10):\n",
    "  row.append(\" \" +str(i)+ \" \")\n",
    "print(\"p\\\\a\" + str(row))\n",
    "# print symbols\n",
    "\n",
    "# for i in range(len(odd_primes)):\n",
    "for o in odds:\n",
    "  l = []\n",
    "  for a in range(10):\n",
    "    ls = jacobi(a,o)\n",
    "    l.append(ls)\n",
    "  print(o,l)"
   ]
  },
  {
   "cell_type": "markdown",
   "metadata": {
    "id": "W2r9mzn0fKSe"
   },
   "source": [
    "Testing if the inputs are legal for for Legendre and jacobi symbol"
   ]
  },
  {
   "cell_type": "markdown",
   "metadata": {
    "id": "2MUr9UCXv2JL"
   },
   "source": [
    "##Hand Written solution for (311/653) aand (666/777)\n",
    "\n",
    "For any integer a and any positive odd integer n, the Jacobi symbol (a/n) is defined as the product of the Legendre symbols corresponding to the prime factors of n.\n",
    "\n",
    "For (311/653)\n",
    "we have a = 311 and b = 653.\n",
    "here both a and b are prime nummber but a<b\n",
    " \n",
    "we can only apply jacobi for a>b\n",
    "\n",
    "Also,\n",
    "\n",
    "(a/b) = -(b/a)\n",
    "\n",
    "So we can swap a = 653 and b = 311 and apply jacobi\n",
    "\n",
    "so \n",
    "653 mod 311\n",
    "= 31 mod 311\n",
    "\n",
    "653 $\\cong$ 31 mod 311\n",
    "\n",
    "Again 31 and 311 are both prime and 31 is less than 311\n",
    "so we swap them and perform modulo arithmatic.\n",
    "\n",
    "311 mod 31\n",
    "$\\cong $ 1 mod 31\n",
    "\n",
    "so $(1)^{(31-1)/2}$ mod 31\n",
    "\n",
    "$1^{15}$ mod 31\n",
    "\n",
    "= 1\n",
    "\n",
    "Thus,\n",
    "(653/311) = 1\n",
    "\n",
    "So,\n",
    "\n",
    "(311/653) = -(653/311) = -1"
   ]
  },
  {
   "cell_type": "code",
   "execution_count": 123,
   "metadata": {
    "colab": {
     "base_uri": "https://localhost:8080/",
     "height": 0
    },
    "id": "-0MCAjErX04l",
    "outputId": "04ee5e83-2bec-4766-b52d-da1c5e03545c"
   },
   "outputs": [
    {
     "name": "stdout",
     "output_type": "stream",
     "text": [
      "Jacobi Symbol -1\n",
      "Legendre sybmol -1\n"
     ]
    }
   ],
   "source": [
    "a1 = 311\n",
    "p1 = n1 = 653\n",
    "j = jacobi(a1,n1)\n",
    "print(\"Jacobi Symbol\",j)\n",
    "l = Legendre(a1, p1)\n",
    "print(\"Legendre sybmol\",l)"
   ]
  },
  {
   "cell_type": "markdown",
   "metadata": {
    "id": "W_xdQp9ootMx"
   },
   "source": [
    "Hence, the hand written result and output of the program for jacobi symbol of (311/653) are both -1."
   ]
  },
  {
   "cell_type": "markdown",
   "metadata": {
    "id": "3Jnb57I_iLYr"
   },
   "source": [
    "Similarly, \n",
    "\n",
    "For (666/777)\n",
    "\n",
    "we have a = 666 and b = 777.\n",
    "here a is an even number and b is an odd number which has 3 prime factors 3, 7 and 37.\n",
    " \n",
    "so \n",
    "666 mod 777\n",
    "= (666/3).(666/7) (666/37) mod 777\n",
    "\n",
    "Now,\n",
    "\n",
    "666 mod 3\n",
    "$\\cong$ 0 mod 3\n",
    "\n",
    ">>(666/3)= 0\n",
    "\n",
    "\n",
    "And,\n",
    "\n",
    ">>666 mod 7 $\\cong$ 1 mod 7\n",
    ">> $(1)^{(7-1)/2}$ mod 7 $\\cong 1^3$ mod 7 $\\cong$ 1 mod 7\n",
    "\n",
    ">>(666/7) = 1\n",
    "\n",
    "And,\n",
    "\n",
    ">>666 mod 37\n",
    ">>$\\cong$ 0 mod 37\n",
    "\n",
    ">>(666/37) = 0\n",
    "\n",
    "\n",
    "Thus,\n",
    "\n",
    "(666/777) = (666/3).(666/7) (666/37) mod 777\n",
    "\n",
    "So,\n",
    "\n",
    "$(666/777) = 0*1*0\n",
    "= 0$"
   ]
  },
  {
   "cell_type": "code",
   "execution_count": 124,
   "metadata": {
    "colab": {
     "base_uri": "https://localhost:8080/",
     "height": 0
    },
    "id": "WfHeZYZb3vSK",
    "outputId": "602605c0-50d7-4f38-ecdc-00ab1bff8a1e"
   },
   "outputs": [
    {
     "name": "stdout",
     "output_type": "stream",
     "text": [
      "Jacobi Symbol 0\n",
      "Legendre sybmol 0\n"
     ]
    }
   ],
   "source": [
    "a2 = 666\n",
    "p2 = n2 = 777\n",
    "j = jacobi(a2,n2)\n",
    "print(\"Jacobi Symbol\",j)\n",
    "l = Legendre(a2, p2)\n",
    "print(\"Legendre sybmol\",l)"
   ]
  },
  {
   "cell_type": "markdown",
   "metadata": {
    "id": "TxKxuHhewp_3"
   },
   "source": [
    "Hence, the hand written result and output of the program for jacobi symbol of (666/777) are both 0."
   ]
  },
  {
   "cell_type": "markdown",
   "metadata": {
    "id": "BRW2XApGN4NE"
   },
   "source": [
    "#Q.N 8\n"
   ]
  },
  {
   "cell_type": "markdown",
   "metadata": {
    "id": "PaRrrxDLP6Gz"
   },
   "source": [
    "##a) List of generators of C9"
   ]
  },
  {
   "cell_type": "markdown",
   "metadata": {
    "id": "VvYRyCOTOAIu"
   },
   "source": [
    "Find the order of element in cyclic sub group under Addition"
   ]
  },
  {
   "cell_type": "code",
   "execution_count": 125,
   "metadata": {
    "id": "AQVsS9Y6N6Z6"
   },
   "outputs": [],
   "source": [
    "#return the order of an element \n",
    "#cycle: is an list of cyclic subgroup\n",
    "def get_order(cycle):\n",
    "  for i in cycle:\n",
    "    if i==1:\n",
    "      order = cycle.index(i) + 1\n",
    "      return order\n"
   ]
  },
  {
   "cell_type": "code",
   "execution_count": 126,
   "metadata": {
    "colab": {
     "base_uri": "https://localhost:8080/",
     "height": 0
    },
    "id": "jIIwmBsoqp2B",
    "outputId": "83cb0d34-809e-4ed4-a486-93a9af188502"
   },
   "outputs": [
    {
     "data": {
      "text/plain": [
       "5"
      ]
     },
     "execution_count": 126,
     "metadata": {},
     "output_type": "execute_result"
    }
   ],
   "source": [
    "#test code\n",
    "cycle = [2, 4, 6, 8, 1, 3, 5, 7, 0]\n",
    "get_order(cycle)"
   ]
  },
  {
   "cell_type": "markdown",
   "metadata": {
    "id": "AtZh71iJuLMA"
   },
   "source": [
    "##Cyclic sub-group of $Z_{9}$ and Generators"
   ]
  },
  {
   "cell_type": "code",
   "execution_count": 127,
   "metadata": {
    "colab": {
     "base_uri": "https://localhost:8080/",
     "height": 0
    },
    "id": "pryHh7cUl_3r",
    "outputId": "7ac5fb0c-abdb-42e9-9814-2e040740eb15"
   },
   "outputs": [
    {
     "name": "stdout",
     "output_type": "stream",
     "text": [
      "----------------------------------------\n",
      "\n",
      "Elements are of Z9 are:[0, 1, 2, 3, 4, 5, 6, 7, 8]\n",
      "----------------------------------------\n",
      "for i = 1\n",
      "..................\n",
      "order is: 1\n",
      "..................\n",
      "Cycle:\n",
      "[1, 2, 3, 4, 5, 6, 7, 8, 0, 1, 2, 3, 4, 5, 6, 7, 8, 0, 1]\n",
      "for i = 2\n",
      "..................\n",
      "order is: 5\n",
      "..................\n",
      "Cycle:\n",
      "[2, 4, 6, 8, 1, 3, 5, 7, 0, 2, 4, 6, 8, 1, 3, 5, 7, 0, 2]\n",
      "for i = 3\n",
      "..................\n",
      "order is: None\n",
      "..................\n",
      "Cycle:\n",
      "[3, 6, 0, 3, 6, 0, 3, 6, 0, 3, 6, 0, 3, 6, 0, 3, 6, 0, 3]\n",
      "for i = 4\n",
      "..................\n",
      "order is: 7\n",
      "..................\n",
      "Cycle:\n",
      "[4, 8, 3, 7, 2, 6, 1, 5, 0, 4, 8, 3, 7, 2, 6, 1, 5, 0, 4]\n",
      "for i = 5\n",
      "..................\n",
      "order is: 2\n",
      "..................\n",
      "Cycle:\n",
      "[5, 1, 6, 2, 7, 3, 8, 4, 0, 5, 1, 6, 2, 7, 3, 8, 4, 0, 5]\n",
      "for i = 6\n",
      "..................\n",
      "order is: None\n",
      "..................\n",
      "Cycle:\n",
      "[6, 3, 0, 6, 3, 0, 6, 3, 0, 6, 3, 0, 6, 3, 0, 6, 3, 0, 6]\n",
      "for i = 7\n",
      "..................\n",
      "order is: 4\n",
      "..................\n",
      "Cycle:\n",
      "[7, 5, 3, 1, 8, 6, 4, 2, 0, 7, 5, 3, 1, 8, 6, 4, 2, 0, 7]\n",
      "for i = 8\n",
      "..................\n",
      "order is: 8\n",
      "..................\n",
      "Cycle:\n",
      "[8, 7, 6, 5, 4, 3, 2, 1, 0, 8, 7, 6, 5, 4, 3, 2, 1, 0, 8]\n",
      "for i = 9\n",
      "..................\n",
      "order is: None\n",
      "..................\n",
      "Cycle:\n",
      "[0, 0, 0, 0, 0, 0, 0, 0, 0, 0, 0, 0, 0, 0, 0, 0, 0, 0, 0]\n"
     ]
    }
   ],
   "source": [
    "#find the generator of the group\n",
    "# for n in range(1,9):\n",
    "a = 9\n",
    "print(\"----------------------------------------\")\n",
    "# print(\"for 2^{}\".format(n))\n",
    "print(\"\\nElements are of Z9 are:{}\".format([i for i in range(a)]))\n",
    "# print([i for i in range(n)])\n",
    "print(\"----------------------------------------\")\n",
    "# i represents elements in field f\n",
    "#gen: is the list of generaters present in the group\n",
    "gen = []\n",
    "for i in range(1,a+1):\n",
    "  print(\"for i = {}\".format(i))\n",
    "  #cycle is the list of cyclic sub-group under an group operation\n",
    "  #addition operation\n",
    "  cycle = [(i*x)%a for x in range(1,20)] \n",
    "  #multiplication operation\n",
    "  # cycle = [(i**x)%a for x in range(1,20)] ()\n",
    "\n",
    "  #order: order of element\n",
    "  order = get_order(cycle)\n",
    "  print(\"..................\")\n",
    "  print(\"order is:\",order)\n",
    "  print(\"..................\")\n",
    "  print(\"Cycle:\")\n",
    "  print(cycle)\n",
    "  # phi: phi gives number of totatives from Euler's totient (n-1)\n",
    "#   phi = a-1 \n",
    "#   if(order == phi):\n",
    "#     gen.append(i)\n",
    "#     # print(\"\\n{} is a primitive element\".format(i))\n",
    "# if (len(gen)!= 0):\n",
    "#   print(\"generators are:\",gen)\n",
    "# else:\n",
    "#   print(\"There are no generators in this group\")"
   ]
  },
  {
   "cell_type": "markdown",
   "metadata": {
    "id": "HjLZ2r55uqF3"
   },
   "source": [
    "\n",
    "\n",
    " if $C_{m}$ is a cyclic group of order m generated by x, then the generators of $C_{m}$ are the elements $x^k$ with k coprime with m.\n",
    "\n",
    " So, for Cyclic group order 9 is denoted by:\n",
    " $C_{9}$ = {1,2,3,4,5,6,7,8,9}\n",
    "\n",
    " Generators are the elements in $C^9 which are Relatively prime to 9.\n",
    "\n",
    "So generators are 1,2,4,5,7,8.\n",
    "\n"
   ]
  },
  {
   "cell_type": "markdown",
   "metadata": {
    "id": "KujvezAfVKad"
   },
   "source": [
    "Examples:\n",
    "1 generates C9\n",
    "\n",
    "1 = 1 mod 9\n",
    "\n",
    "1 + 1 = 2 mod 9\n",
    "\n",
    "1 + 1 + 1 = 3 mod 9\n",
    "\n",
    "1 + 1 + 1 + 1 = 4 mod 9\n",
    "\n",
    "1 + 1 + 1 + 1 + 1 = 5 mod 9\n",
    "\n",
    "1 + 1 + 1 + 1 + 1 + 1 = 6 mod 9\n",
    "\n",
    "1 + 1 + 1 + 1 + 1 + 1 + 1 = 7 mod 9\n",
    "\n",
    "1 + 1 + 1 + 1 + 1 + 1 + 1 + 1 = 8 mod 9\n",
    "\n",
    "1 + 1 + 1 + 1 + 1 + 1 + 1 + 1 + 1 = 0 mod 9\n",
    "\n",
    "So, 1 is the generator of C9\n",
    "\n",
    "Similarly for 2:\n",
    "\n",
    "\n",
    "2  = 2 mod 9\n",
    "\n",
    "2+2= 4 mod 9\n",
    "\n",
    "2+2+2 = 6 mod 9\n",
    "\n",
    "2+2+2+2 = 8 mod 9\n",
    "\n",
    "2+2+2+2+2  = 1 mod 9\n",
    "\n",
    "12  = 3 mod 9\n",
    "\n",
    "14 = 5 mod 9\n",
    "\n",
    "16 = 7 mod 9\n",
    "\n",
    "18 = 0 mod 9\n",
    "\n",
    "\n"
   ]
  },
  {
   "cell_type": "markdown",
   "metadata": {
    "id": "MuDXOVF4Py8A"
   },
   "source": [
    "##b Group of order 9 that G!= C9 is the Z3 X Z3.\n",
    "Suppose we have two group of order 3 which are abelian. $C3$ = {1,a,$a^2$} and $C3$ = {1,b,$b^2$} then\n",
    "C3 X C3 gives the group of order 9 which is also abelian.\n",
    "\n",
    "A group G = $Z_{3} * Z_{3}$ is a group of order 9 which is not cyclic. ie. G != C9.\n",
    "\n",
    "The group is G = $Z_{p} * Z_{q}$ is cyclic if only GCD(p,q) = 1.\n",
    "\n",
    "In G = $Z_{3} * Z_{3}$, GCD(3,3) != 1. Hence $Z_{3} * Z_{3}$ is not a cyclic group.\n",
    "\n",
    "But any group which is the order of $p^2$ is always abelian.\n",
    "Hence G is also abelian.\n",
    "\n",
    "In Z3 we have element of order either 1 or 3. Element of 1 order is identity and the remaining elements are of order 3.\n",
    "\n",
    "So in case of $Z_{3} * Z_{3}$ we can find the order of the elements by calculating the LCM of the order of elements in two seprate groups.\n",
    "\n",
    "for eg:\n",
    "LCM(1,1) = 1\n",
    "\n",
    "Element of order 1 is obviously the identity element.\n",
    "\n",
    "LCM(1,3) = 3\n",
    "\n",
    "Total number of elements is given by = $φ(1)*φ(3) = 1*2 = 2\n",
    "\n",
    "LCM(3,1) = 3\n",
    "\n",
    "Total number of elements is given by = $φ(3)*φ(1) = 2*1 = 2\n",
    "\n",
    "LCM(3,3) = 3\n",
    "Total number of elements is given by = $φ(3)*φ(3) = 2*2 = 4\n",
    "\n",
    "\n",
    "So there are total 8 elements of order 3 and one element of order 1 in G = $Z_{3} * Z_{3}$\n",
    "\n",
    "Hence it is proved that G has some elements of order 3.\n",
    "\n",
    "\n",
    "\n",
    "\n",
    "\n",
    "\n",
    "\n",
    "\n",
    "\n",
    "\n",
    "\n",
    "\n",
    "\n",
    "\n"
   ]
  },
  {
   "cell_type": "markdown",
   "metadata": {
    "id": "PCHWYc2M-dRY"
   },
   "source": [
    "##e)\n",
    "Given two groups G1 and G2,  the Cartesian product $G_{1} X G_{2}$ is\n",
    "the set of ordered pairs (g1, g2) with g1 $ϵ$ G1, g2 $ϵ$ G2:\n",
    "G1 X G2 = {(g1, g2) | g1 $ϵ$  G1, g2 $ϵ$  G2} which is aslo a group.\n",
    "\n",
    "\n",
    "let G1 = g1 · g1' and G2 =  g1 · g2'\n",
    "Direct cartician product: \n",
    "$G_{1} X G_{2} =  (g1, g1')(g2, g2') = (g1g2, g1'g2')$\n",
    "\n",
    "Identity is (e1, e2) where e1 is the identity of G1 nad e2 is the identity of G2.\n",
    "\n",
    "Also Inverse is:\n",
    "\n",
    "$(g1,g2)^{−1}$ = ($g_{1}^{−1}\n",
    ", g_{2}^{−1}$\n",
    ")"
   ]
  },
  {
   "cell_type": "markdown",
   "metadata": {
    "id": "4uEbCApCNSVW"
   },
   "source": [
    "##(g) and (h)\n",
    "Cayley Table:\n",
    "\n",
    "Associativity depends on a 3 term equation, ( a b ) c = a ( b c ) but the Cayley table shows only 2-term products. Thats why we cannot simply assume that operation is associative looking into the result of Cayley table.\n",
    "\n",
    "\n",
    "\n"
   ]
  },
  {
   "cell_type": "markdown",
   "metadata": {
    "id": "wLC8CMeVRRsD"
   },
   "source": [
    "#K)\n",
    "There are only two group of order 9 and both of them are abelian. The groups are: $C_{9}$ and $C_{3}$ X $C_{3}$ . $C_{9}$ is cyclic group  because some elements in group has the order equal to the group order 9. But $C_{3} X C_{3}$ is only abelian and not cyclic because no elements in this group has order 9.\n",
    "\n"
   ]
  },
  {
   "cell_type": "markdown",
   "metadata": {
    "id": "kJueo52B8fO1"
   },
   "source": [
    "#Q.N 9\n"
   ]
  },
  {
   "cell_type": "markdown",
   "metadata": {
    "id": "HeZ11vaNbxyS"
   },
   "source": [
    "##(a)"
   ]
  },
  {
   "cell_type": "markdown",
   "metadata": {
    "id": "tg4q1wunbiOp"
   },
   "source": [
    "###(i)Take your 8-digit student ID and break it into two 4-digit num\u0002bers by taking the top four digits as one number and the bottom four digits as the other number. For example, if your student ID was 87654321, your top number would be 8765 and your bottom number would be 4321. Ignore leading zeroes."
   ]
  },
  {
   "cell_type": "markdown",
   "metadata": {
    "id": "5W7H1VBKPgy4"
   },
   "source": []
  },
  {
   "cell_type": "code",
   "execution_count": 128,
   "metadata": {
    "colab": {
     "base_uri": "https://localhost:8080/",
     "height": 0
    },
    "id": "OApUo0OEX6bX",
    "outputId": "7693b648-fc83-498b-cf4c-635434eaba1d"
   },
   "outputs": [
    {
     "name": "stdout",
     "output_type": "stream",
     "text": [
      "1258\n",
      "4026\n"
     ]
    }
   ],
   "source": [
    "my_sid = '12584026'\n",
    "top_number = my_sid[:4]\n",
    "bottom_number = my_sid[4:]\n",
    "print(top_number)\n",
    "print(bottom_number)\n"
   ]
  },
  {
   "cell_type": "markdown",
   "metadata": {
    "id": "RFBK5VOIbH3S"
   },
   "source": [
    "### ii. Write the code to compute (bottom number)topnumber mod 10001 to get a four digit number. Pad with leading zeroes to make sure it is a 4-digit string.\n"
   ]
  },
  {
   "cell_type": "code",
   "execution_count": 129,
   "metadata": {
    "colab": {
     "base_uri": "https://localhost:8080/",
     "height": 0
    },
    "id": "FuYR_WV7YYqZ",
    "outputId": "719e692f-b59d-41b1-d764-d2d87dd56c20"
   },
   "outputs": [
    {
     "name": "stdout",
     "output_type": "stream",
     "text": [
      "class id = 1133\n"
     ]
    }
   ],
   "source": [
    "x = int(bottom_number)**int(top_number)\n",
    "y = x%10001\n",
    "print(\"class id =\",y)"
   ]
  },
  {
   "cell_type": "markdown",
   "metadata": {
    "id": "1oSQBylLZbF9"
   },
   "source": [
    ">My New Class id is 1133"
   ]
  },
  {
   "cell_type": "markdown",
   "metadata": {
    "id": "7ZsQj_AXcDSo"
   },
   "source": [
    "##(b) Explain why it is better to use mod 10001 than mod 10000 in the calculation above."
   ]
  },
  {
   "cell_type": "code",
   "execution_count": 130,
   "metadata": {
    "id": "CzFsgK7edjc2"
   },
   "outputs": [],
   "source": [
    "#check if a number is prime\n",
    "def isPrime(n):\n",
    "  if type(n) != int:\n",
    "    return False\n",
    "  n = abs(n)\n",
    "  if n < 2:\n",
    "    return False\n",
    "  if n == 2:\n",
    "    return True\n",
    "  if 0 == n%2:\n",
    "    return False\n",
    "  d = 3\n",
    "  while d*d <= n:\n",
    "    if 0 == n%d:\n",
    "      return False\n",
    "    d += 2\n",
    "  return True"
   ]
  },
  {
   "cell_type": "code",
   "execution_count": 131,
   "metadata": {
    "colab": {
     "base_uri": "https://localhost:8080/",
     "height": 0
    },
    "id": "O0H-ZIcZd3nP",
    "outputId": "2aaf3c6a-77c7-4cbe-b9f3-a78683ef9c67"
   },
   "outputs": [
    {
     "name": "stdout",
     "output_type": "stream",
     "text": [
      "Number 1133 is not prime\n"
     ]
    }
   ],
   "source": [
    "# test code\n",
    "n = 1133\n",
    "if isPrime(n):\n",
    "  print(\"Number {} is prime\".format(n))\n",
    "else:\n",
    "  print(\"Number {} is not prime\".format(n))"
   ]
  },
  {
   "cell_type": "code",
   "execution_count": 132,
   "metadata": {
    "colab": {
     "base_uri": "https://localhost:8080/",
     "height": 0
    },
    "id": "t0SZfQoXcOlC",
    "outputId": "19879069-d1a6-49fa-944e-8c0c42013e77"
   },
   "outputs": [
    {
     "name": "stdout",
     "output_type": "stream",
     "text": [
      "class id = 1133\n",
      "class id = 6576\n"
     ]
    }
   ],
   "source": [
    "x = int(bottom_number)**int(top_number)\n",
    "y = x%10001\n",
    "z = x%10000\n",
    "print(\"class id =\",y)\n",
    "print(\"class id =\",z)"
   ]
  },
  {
   "cell_type": "code",
   "execution_count": 133,
   "metadata": {
    "colab": {
     "base_uri": "https://localhost:8080/",
     "height": 0
    },
    "id": "ypmPEq4NHfMK",
    "outputId": "996f4f0f-5856-4c93-eac1-a33bee18ee20"
   },
   "outputs": [
    {
     "data": {
      "text/plain": [
       "[73, 137]"
      ]
     },
     "execution_count": 133,
     "metadata": {},
     "output_type": "execute_result"
    }
   ],
   "source": [
    "get_Prime_Factors(10001)"
   ]
  },
  {
   "cell_type": "code",
   "execution_count": 134,
   "metadata": {
    "colab": {
     "base_uri": "https://localhost:8080/",
     "height": 0
    },
    "id": "3kkUmg2vLwo1",
    "outputId": "838feada-0398-4fee-e025-c84fe9acd446"
   },
   "outputs": [
    {
     "data": {
      "text/plain": [
       "[2, 2, 2, 2, 5, 5, 5, 5]"
      ]
     },
     "execution_count": 134,
     "metadata": {},
     "output_type": "execute_result"
    }
   ],
   "source": [
    "get_Prime_Factors(10000)"
   ]
  },
  {
   "cell_type": "markdown",
   "metadata": {
    "id": "1v9D1B6DkHep"
   },
   "source": [
    "10001 is an odd number which is the product of two prime factors 73 and 137.\n",
    "\n",
    "while 10000 is an even and the product of $2^4$ and $5^4$. its prime factors are 2 and 5.\n",
    "\n",
    "\n",
    "So, it is more difficult to reverse the process when n has bigger prime factors. \n"
   ]
  },
  {
   "cell_type": "markdown",
   "metadata": {
    "id": "gm3Zz3vsq274"
   },
   "source": [
    "##c) How hard it is to reverse engineer the process?\n",
    "Given only the class id,it would be very difficult to reverse engineer the the process of finding original student id. \n",
    "As we have,\n",
    "class_id = $bottom^{top}$ mod 10001\n",
    "\n",
    "we need to find bottom and top number.\n",
    "\n",
    "The problem can be solved only by finding top number. But Top number can be found by taking $log_{bottom}$ of class_id only if the bottom number and class id is known. This is an discrete logarithm problem.\n",
    "\n",
    "To solve this problem, we need to calculate all the powers of (base nummber) modulo (73*137) which requires alot of computational time and space.\n",
    "\n",
    "\n",
    "\n",
    "\n",
    "\n",
    "\n",
    "\n",
    "\n",
    "\n"
   ]
  }
 ],
 "metadata": {
  "colab": {
   "collapsed_sections": [],
   "name": "GS_CS5602HW04",
   "provenance": [],
   "toc_visible": true
  },
  "kernelspec": {
   "display_name": "Python 3 (ipykernel)",
   "language": "python",
   "name": "python3"
  },
  "language_info": {
   "codemirror_mode": {
    "name": "ipython",
    "version": 3
   },
   "file_extension": ".py",
   "mimetype": "text/x-python",
   "name": "python",
   "nbconvert_exporter": "python",
   "pygments_lexer": "ipython3",
   "version": "3.9.12"
  }
 },
 "nbformat": 4,
 "nbformat_minor": 1
}
